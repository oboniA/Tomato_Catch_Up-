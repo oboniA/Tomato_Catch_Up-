{
  "nbformat": 4,
  "nbformat_minor": 0,
  "metadata": {
    "colab": {
      "provenance": [],
      "gpuType": "L4",
      "machine_shape": "hm"
    },
    "kernelspec": {
      "name": "python3",
      "display_name": "Python 3"
    },
    "language_info": {
      "name": "python"
    },
    "accelerator": "GPU"
  },
  "cells": [
    {
      "cell_type": "markdown",
      "source": [
        "**Hardware Accelerator: L4 GPU**\n",
        "\n"
      ],
      "metadata": {
        "id": "c97AlZN0k1aM"
      }
    },
    {
      "cell_type": "markdown",
      "source": [
        "# Libraries and imports"
      ],
      "metadata": {
        "id": "yEp4XfUEXFfY"
      }
    },
    {
      "cell_type": "code",
      "source": [
        "from google.colab import drive\n",
        "import os\n",
        "import zipfile\n",
        "from sklearn.model_selection import train_test_split\n",
        "import shutil\n",
        "import glob\n",
        "import cv2\n",
        "import numpy as np\n",
        "from sklearn import preprocessing\n",
        "from sklearn.utils.class_weight import compute_class_weight\n",
        "from tensorflow.keras.preprocessing.image import ImageDataGenerator\n",
        "from tensorflow.keras.applications.vgg16 import VGG16\n",
        "import keras\n",
        "from keras.models import Sequential\n",
        "from keras.layers import Flatten, Dense, Dropout\n",
        "import seaborn as sns\n",
        "from sklearn.metrics import confusion_matrix, classification_report\n",
        "!pip install keras-tuner\n",
        "import keras_tuner as kt\n",
        "import time\n",
        "from keras import regularizers\n",
        "from keras.callbacks import EarlyStopping\n",
        "from keras.callbacks import ModelCheckpoint\n",
        "from google.colab import files\n",
        "from tensorflow.keras.models import load_model\n",
        "import matplotlib.pyplot as plt\n",
        "import tensorflow as tf"
      ],
      "metadata": {
        "id": "mzgRjOAxSBku",
        "colab": {
          "base_uri": "https://localhost:8080/"
        },
        "outputId": "ec65602e-395a-4377-eb10-2364c76f6874"
      },
      "execution_count": null,
      "outputs": [
        {
          "output_type": "stream",
          "name": "stdout",
          "text": [
            "Collecting keras-tuner\n",
            "  Downloading keras_tuner-1.4.7-py3-none-any.whl.metadata (5.4 kB)\n",
            "Requirement already satisfied: keras in /usr/local/lib/python3.11/dist-packages (from keras-tuner) (3.5.0)\n",
            "Requirement already satisfied: packaging in /usr/local/lib/python3.11/dist-packages (from keras-tuner) (24.2)\n",
            "Requirement already satisfied: requests in /usr/local/lib/python3.11/dist-packages (from keras-tuner) (2.32.3)\n",
            "Collecting kt-legacy (from keras-tuner)\n",
            "  Downloading kt_legacy-1.0.5-py3-none-any.whl.metadata (221 bytes)\n",
            "Requirement already satisfied: absl-py in /usr/local/lib/python3.11/dist-packages (from keras->keras-tuner) (1.4.0)\n",
            "Requirement already satisfied: numpy in /usr/local/lib/python3.11/dist-packages (from keras->keras-tuner) (1.26.4)\n",
            "Requirement already satisfied: rich in /usr/local/lib/python3.11/dist-packages (from keras->keras-tuner) (13.9.4)\n",
            "Requirement already satisfied: namex in /usr/local/lib/python3.11/dist-packages (from keras->keras-tuner) (0.0.8)\n",
            "Requirement already satisfied: h5py in /usr/local/lib/python3.11/dist-packages (from keras->keras-tuner) (3.12.1)\n",
            "Requirement already satisfied: optree in /usr/local/lib/python3.11/dist-packages (from keras->keras-tuner) (0.14.0)\n",
            "Requirement already satisfied: ml-dtypes in /usr/local/lib/python3.11/dist-packages (from keras->keras-tuner) (0.4.1)\n",
            "Requirement already satisfied: charset-normalizer<4,>=2 in /usr/local/lib/python3.11/dist-packages (from requests->keras-tuner) (3.4.1)\n",
            "Requirement already satisfied: idna<4,>=2.5 in /usr/local/lib/python3.11/dist-packages (from requests->keras-tuner) (3.10)\n",
            "Requirement already satisfied: urllib3<3,>=1.21.1 in /usr/local/lib/python3.11/dist-packages (from requests->keras-tuner) (2.3.0)\n",
            "Requirement already satisfied: certifi>=2017.4.17 in /usr/local/lib/python3.11/dist-packages (from requests->keras-tuner) (2024.12.14)\n",
            "Requirement already satisfied: typing-extensions>=4.5.0 in /usr/local/lib/python3.11/dist-packages (from optree->keras->keras-tuner) (4.12.2)\n",
            "Requirement already satisfied: markdown-it-py>=2.2.0 in /usr/local/lib/python3.11/dist-packages (from rich->keras->keras-tuner) (3.0.0)\n",
            "Requirement already satisfied: pygments<3.0.0,>=2.13.0 in /usr/local/lib/python3.11/dist-packages (from rich->keras->keras-tuner) (2.18.0)\n",
            "Requirement already satisfied: mdurl~=0.1 in /usr/local/lib/python3.11/dist-packages (from markdown-it-py>=2.2.0->rich->keras->keras-tuner) (0.1.2)\n",
            "Downloading keras_tuner-1.4.7-py3-none-any.whl (129 kB)\n",
            "\u001b[2K   \u001b[90m━━━━━━━━━━━━━━━━━━━━━━━━━━━━━━━━━━━━━━━━\u001b[0m \u001b[32m129.1/129.1 kB\u001b[0m \u001b[31m9.0 MB/s\u001b[0m eta \u001b[36m0:00:00\u001b[0m\n",
            "\u001b[?25hDownloading kt_legacy-1.0.5-py3-none-any.whl (9.6 kB)\n",
            "Installing collected packages: kt-legacy, keras-tuner\n",
            "Successfully installed keras-tuner-1.4.7 kt-legacy-1.0.5\n"
          ]
        }
      ]
    },
    {
      "cell_type": "markdown",
      "source": [
        "# Data Preparation"
      ],
      "metadata": {
        "id": "cgwMxR4nW-r0"
      }
    },
    {
      "cell_type": "markdown",
      "source": [
        "**Import dataset from google drive**\n",
        "\n",
        "dataset in google drive is a zip folder. Here, the folder is unzipped and loaded into collab."
      ],
      "metadata": {
        "id": "HQxBNmFdVAtb"
      }
    },
    {
      "cell_type": "code",
      "execution_count": null,
      "metadata": {
        "colab": {
          "base_uri": "https://localhost:8080/"
        },
        "id": "_7hvGjodRY3T",
        "outputId": "249c3e9b-6a00-4582-da46-a9d2bf166ce6"
      },
      "outputs": [
        {
          "output_type": "stream",
          "name": "stdout",
          "text": [
            "Mounted at /content/drive\n"
          ]
        },
        {
          "output_type": "execute_result",
          "data": {
            "text/plain": [
              "['Tomato__Tomato_YellowLeaf__Curl_Virus',\n",
              " 'Tomato_Early_blight',\n",
              " 'Tomato_Septoria_leaf_spot',\n",
              " 'Tomato_healthy',\n",
              " 'Tomato_Leaf_Mold',\n",
              " 'Tomato__Target_Spot',\n",
              " 'Tomato_Late_blight',\n",
              " 'Tomato__Tomato_mosaic_virus',\n",
              " 'Tomato_Spider_mites_Two_spotted_spider_mite',\n",
              " 'Tomato_Bacterial_spot']"
            ]
          },
          "metadata": {},
          "execution_count": 2
        }
      ],
      "source": [
        "drive.mount('/content/drive')\n",
        "\n",
        "zip_file = '/content/drive/MyDrive/TomatoPlantVillage.zip'\n",
        "extracted_file = '/content/PlantVillage'\n",
        "\n",
        "with zipfile.ZipFile(zip_file, 'r') as zip_ref:\n",
        "    zip_ref.extractall(extracted_file)\n",
        "\n",
        "os.listdir(extracted_file)\n",
        "work_folder = '/content/PlantVillage/TomatoPlantVillage'\n",
        "os.listdir(work_folder)"
      ]
    },
    {
      "cell_type": "markdown",
      "source": [
        "**Create training, validation, and test sets directories**"
      ],
      "metadata": {
        "id": "H1lQokzOVKKk"
      }
    },
    {
      "cell_type": "code",
      "source": [
        "#destinations\n",
        "split_dataset = \"TomatoPlantDataset/\"\n",
        "train_path = os.path.join(split_dataset, \"training_data\")\n",
        "val_path = os.path.join(split_dataset, \"validation_data\")\n",
        "test_path = os.path.join(split_dataset, \"testing_data\")\n",
        "\n",
        "# makes seperate directories\n",
        "os.makedirs(train_path, exist_ok=True)\n",
        "os.makedirs(test_path, exist_ok=True)"
      ],
      "metadata": {
        "id": "nXRHuLV8TgYb"
      },
      "execution_count": null,
      "outputs": []
    },
    {
      "cell_type": "markdown",
      "source": [
        "**Data split**\n",
        "\n",
        "Training 70%\n",
        "Validation 15%\n",
        "Testing 15%"
      ],
      "metadata": {
        "id": "zMXrhxFjVONb"
      }
    },
    {
      "cell_type": "code",
      "source": [
        "train_ratio = 0.70\n",
        "val_ratio = 0.15\n",
        "test_ratio = 0.15\n",
        "\n",
        "# function to split data\n",
        "def datasplit(work_folder, train_path, val_path, test_path):\n",
        "\n",
        "    # gets class names\n",
        "    class_names = os.listdir(work_folder)\n",
        "    for cls in class_names:\n",
        "        class_dir = os.path.join(work_folder, cls)\n",
        "        images = os.listdir(class_dir)\n",
        "\n",
        "        # splits dataset\n",
        "        train_data, test_data = train_test_split(images, test_size=test_ratio, random_state=42)\n",
        "        train_val, val_data = train_test_split(train_data, test_size=val_ratio/(train_ratio+val_ratio), random_state=42)\n",
        "\n",
        "        # copies images to dedicated directories\n",
        "        for img in train_val:\n",
        "            shutil.copy(os.path.join(class_dir, img), os.path.join(train_path, cls))\n",
        "        for img in val_data:\n",
        "            shutil.copy(os.path.join(class_dir, img), os.path.join(val_path, cls))\n",
        "        for img in test_data:\n",
        "            shutil.copy(os.path.join(class_dir, img), os.path.join(test_path, cls))\n",
        "\n",
        "# create subdirectories for each class in train, val, test directories\n",
        "for cls in os.listdir(work_folder):\n",
        "    os.makedirs(os.path.join(train_path, cls), exist_ok=True)\n",
        "    os.makedirs(os.path.join(val_path, cls), exist_ok=True)\n",
        "    os.makedirs(os.path.join(test_path, cls), exist_ok=True)\n",
        "\n",
        "# data split\n",
        "datasplit(work_folder, train_path, val_path, test_path)"
      ],
      "metadata": {
        "id": "3noVtawmSnNY"
      },
      "execution_count": null,
      "outputs": []
    },
    {
      "cell_type": "markdown",
      "source": [
        "**Check data distribution in destination folders**"
      ],
      "metadata": {
        "id": "wVSWJzFiVWzo"
      }
    },
    {
      "cell_type": "code",
      "source": [
        "def calculate_and_print_splits(train_dir, val_dir, test_dir):\n",
        "    total_train = sum([len(files) for _, _, files in os.walk(train_dir)])\n",
        "    total_val = sum([len(files) for _, _, files in os.walk(val_dir)])\n",
        "    total_test = sum([len(files) for _, _, files in os.walk(test_dir)])\n",
        "\n",
        "    total_files = total_train + total_val + total_test\n",
        "\n",
        "    print(f\"Total Files: {total_files}\")\n",
        "    print(f\"Training Files: {total_train} ({(total_train / total_files) * 100:.2f}%)\")\n",
        "    print(f\"Validation Files: {total_val} ({(total_val / total_files) * 100:.2f}%)\")\n",
        "    print(f\"Testing Files: {total_test} ({(total_test / total_files) * 100:.2f}%)\")\n",
        "\n",
        "calculate_and_print_splits(train_path, val_path, test_path)"
      ],
      "metadata": {
        "colab": {
          "base_uri": "https://localhost:8080/"
        },
        "id": "8zB9pmPbVkH4",
        "outputId": "f4e6b73e-7a77-43ef-b6b7-7bc9fbe8e2a0"
      },
      "execution_count": null,
      "outputs": [
        {
          "output_type": "stream",
          "name": "stdout",
          "text": [
            "Total Files: 16012\n",
            "Training Files: 11201 (69.95%)\n",
            "Validation Files: 2405 (15.02%)\n",
            "Testing Files: 2406 (15.03%)\n"
          ]
        }
      ]
    },
    {
      "cell_type": "code",
      "source": [
        "folder_path = 'data/testdata'\n",
        "zip_path = 'testdata.zip'\n",
        "shutil.make_archive('testdata', 'zip', folder_path)"
      ],
      "metadata": {
        "id": "uQuCn5ihLpjU"
      },
      "execution_count": null,
      "outputs": []
    },
    {
      "cell_type": "markdown",
      "source": [
        "# Data augmentation and prepare training and validation pipelines"
      ],
      "metadata": {
        "id": "mhJBPzdzik3J"
      }
    },
    {
      "cell_type": "code",
      "source": [
        "training_dir = '/content/TomatoPlantDataset/training_data'\n",
        "validation_dir = '/content/TomatoPlantDataset/validation_data'\n",
        "testing_dir = '/content/TomatoPlantDataset/testing_data'"
      ],
      "metadata": {
        "id": "uBdmHpjTZZqz"
      },
      "execution_count": null,
      "outputs": []
    },
    {
      "cell_type": "markdown",
      "source": [
        "**Download the test data beforehand for testing purpose!**"
      ],
      "metadata": {
        "id": "wsP6TvqvMRTw"
      }
    },
    {
      "cell_type": "code",
      "source": [
        "test_zip = '/content/testdata.zip'\n",
        "shutil.make_archive('testdata', 'zip', testing_dir)\n",
        "\n",
        "files.download(test_zip)"
      ],
      "metadata": {
        "colab": {
          "base_uri": "https://localhost:8080/",
          "height": 34
        },
        "id": "XJPGRCl9Lu-e",
        "outputId": "294d0278-39a4-4354-fce9-7852ddd9e13a"
      },
      "execution_count": null,
      "outputs": [
        {
          "output_type": "display_data",
          "data": {
            "text/plain": [
              "<IPython.core.display.Javascript object>"
            ],
            "application/javascript": [
              "\n",
              "    async function download(id, filename, size) {\n",
              "      if (!google.colab.kernel.accessAllowed) {\n",
              "        return;\n",
              "      }\n",
              "      const div = document.createElement('div');\n",
              "      const label = document.createElement('label');\n",
              "      label.textContent = `Downloading \"${filename}\": `;\n",
              "      div.appendChild(label);\n",
              "      const progress = document.createElement('progress');\n",
              "      progress.max = size;\n",
              "      div.appendChild(progress);\n",
              "      document.body.appendChild(div);\n",
              "\n",
              "      const buffers = [];\n",
              "      let downloaded = 0;\n",
              "\n",
              "      const channel = await google.colab.kernel.comms.open(id);\n",
              "      // Send a message to notify the kernel that we're ready.\n",
              "      channel.send({})\n",
              "\n",
              "      for await (const message of channel.messages) {\n",
              "        // Send a message to notify the kernel that we're ready.\n",
              "        channel.send({})\n",
              "        if (message.buffers) {\n",
              "          for (const buffer of message.buffers) {\n",
              "            buffers.push(buffer);\n",
              "            downloaded += buffer.byteLength;\n",
              "            progress.value = downloaded;\n",
              "          }\n",
              "        }\n",
              "      }\n",
              "      const blob = new Blob(buffers, {type: 'application/binary'});\n",
              "      const a = document.createElement('a');\n",
              "      a.href = window.URL.createObjectURL(blob);\n",
              "      a.download = filename;\n",
              "      div.appendChild(a);\n",
              "      a.click();\n",
              "      div.remove();\n",
              "    }\n",
              "  "
            ]
          },
          "metadata": {}
        },
        {
          "output_type": "display_data",
          "data": {
            "text/plain": [
              "<IPython.core.display.Javascript object>"
            ],
            "application/javascript": [
              "download(\"download_bd0e5032-69b0-4a62-a171-be504a9d9a76\", \"testdata.zip\", 38940050)"
            ]
          },
          "metadata": {}
        }
      ]
    },
    {
      "cell_type": "markdown",
      "source": [
        "**Augmentation**"
      ],
      "metadata": {
        "id": "-d1d--88sujW"
      }
    },
    {
      "cell_type": "code",
      "source": [
        "# https://github.com/amitjha11/Plant-Disease-Detection-Using-VGG16/blob/master/plant-disease-detection-using-vgg16.ipynb\n",
        "\n",
        "SIZE = 224  # in pixels\n",
        "batch_size = 128\n",
        "\n",
        "# data augmentation for training data\n",
        "train_datagenerator = ImageDataGenerator(rescale=1./255,\n",
        "                                          width_shift_range=0.2,\n",
        "                                          height_shift_range=0.2,\n",
        "                                          shear_range=0.2,\n",
        "                                          zoom_range=0.2,\n",
        "                                          fill_mode='nearest')\n",
        "\n",
        "# normalization for validation and test data\n",
        "val_datagenerator = ImageDataGenerator(rescale=1.0 / 255)\n",
        "test_datagenerator = ImageDataGenerator(rescale=1./255)\n",
        "\n",
        "# generators\n",
        "train_gen = train_datagenerator.flow_from_directory(training_dir, target_size=(SIZE, SIZE), batch_size=batch_size, class_mode='categorical', shuffle=True)\n",
        "val_gen = val_datagenerator.flow_from_directory(validation_dir, target_size=(SIZE, SIZE), batch_size=batch_size, class_mode='categorical', shuffle=False)\n",
        "test_gen = test_datagenerator.flow_from_directory(testing_dir, target_size=(SIZE, SIZE), batch_size=batch_size, class_mode='categorical', shuffle=False)"
      ],
      "metadata": {
        "colab": {
          "base_uri": "https://localhost:8080/"
        },
        "id": "BgUYJtgH8tId",
        "outputId": "1477df7e-b248-4658-d1e0-7736d1c9be30"
      },
      "execution_count": null,
      "outputs": [
        {
          "output_type": "stream",
          "name": "stdout",
          "text": [
            "Found 11201 images belonging to 10 classes.\n",
            "Found 2405 images belonging to 10 classes.\n",
            "Found 2405 images belonging to 10 classes.\n"
          ]
        }
      ]
    },
    {
      "cell_type": "code",
      "source": [
        "train_samples = train_gen.samples\n",
        "val_samples = val_gen.samples\n",
        "\n",
        "print(f\"Training samples: {train_samples}\")\n",
        "print(f\"Validation samples: {val_samples}\")"
      ],
      "metadata": {
        "colab": {
          "base_uri": "https://localhost:8080/"
        },
        "id": "ETTaV2xA9xay",
        "outputId": "271f74c1-5ab2-4171-ab49-01b0acae92de"
      },
      "execution_count": null,
      "outputs": [
        {
          "output_type": "stream",
          "name": "stdout",
          "text": [
            "Training samples: 11201\n",
            "Validation samples: 2405\n"
          ]
        }
      ]
    },
    {
      "cell_type": "markdown",
      "source": [
        "**Extract Numerical classes from Categorical classes**\n",
        "\n",
        "for confuson matrix"
      ],
      "metadata": {
        "id": "fmlx4fxEVwbz"
      }
    },
    {
      "cell_type": "code",
      "source": [
        "class_names = train_gen.class_indices\n",
        "class_keys = list(class_names.keys())\n",
        "\n",
        "print(class_names)\n",
        "print(class_keys)"
      ],
      "metadata": {
        "colab": {
          "base_uri": "https://localhost:8080/"
        },
        "id": "jUl66VCG9za2",
        "outputId": "45a37948-21e4-4ea5-e540-24e9c2c55f44"
      },
      "execution_count": null,
      "outputs": [
        {
          "output_type": "stream",
          "name": "stdout",
          "text": [
            "{'Tomato_Bacterial_spot': 0, 'Tomato_Early_blight': 1, 'Tomato_Late_blight': 2, 'Tomato_Leaf_Mold': 3, 'Tomato_Septoria_leaf_spot': 4, 'Tomato_Spider_mites_Two_spotted_spider_mite': 5, 'Tomato__Target_Spot': 6, 'Tomato__Tomato_YellowLeaf__Curl_Virus': 7, 'Tomato__Tomato_mosaic_virus': 8, 'Tomato_healthy': 9}\n",
            "['Tomato_Bacterial_spot', 'Tomato_Early_blight', 'Tomato_Late_blight', 'Tomato_Leaf_Mold', 'Tomato_Septoria_leaf_spot', 'Tomato_Spider_mites_Two_spotted_spider_mite', 'Tomato__Target_Spot', 'Tomato__Tomato_YellowLeaf__Curl_Virus', 'Tomato__Tomato_mosaic_virus', 'Tomato_healthy']\n"
          ]
        }
      ]
    },
    {
      "cell_type": "markdown",
      "source": [
        "# **Class Oversampling**"
      ],
      "metadata": {
        "id": "avgkM7QllWdg"
      }
    },
    {
      "cell_type": "code",
      "source": [
        "# https://stackoverflow.com/questions/69783897/compute-class-weight-function-issue-in-sklearn-library-when-used-in-keras-cl\n",
        "# https://scikit-learn.org/dev/modules/generated/sklearn.utils.class_weight.compute_class_weight.html\n",
        "\n",
        "compute_weights = compute_class_weight(class_weight='balanced', classes=np.unique(train_gen.classes), y=train_gen.classes)\n",
        "class_weights = dict(zip(np.unique(train_gen.classes), compute_weights))\n",
        "class_weights"
      ],
      "metadata": {
        "colab": {
          "base_uri": "https://localhost:8080/"
        },
        "id": "EXj6Q4jy-Pn1",
        "outputId": "6433a91a-6ea6-4644-bec4-22c634cd05ea"
      },
      "execution_count": null,
      "outputs": [
        {
          "output_type": "execute_result",
          "data": {
            "text/plain": [
              "{0: 0.7527553763440861,\n",
              " 1: 1.600142857142857,\n",
              " 2: 0.8390262172284644,\n",
              " 3: 1.681831831831832,\n",
              " 4: 0.9040355125100887,\n",
              " 5: 0.955716723549488,\n",
              " 6: 1.1406313645621182,\n",
              " 7: 0.4989309576837416,\n",
              " 8: 4.291570881226054,\n",
              " 9: 1.0063791554357593}"
            ]
          },
          "metadata": {},
          "execution_count": 10
        }
      ]
    },
    {
      "cell_type": "markdown",
      "source": [
        "# Feature Extraction"
      ],
      "metadata": {
        "id": "_jtz6Zek-j0J"
      }
    },
    {
      "cell_type": "markdown",
      "source": [
        "**Set up VGG16 as feature extractor**"
      ],
      "metadata": {
        "id": "J5z96f1Yio5w"
      }
    },
    {
      "cell_type": "code",
      "source": [
        "# https://stackoverflow.com/questions/65851403/vgg16-with-other-input-shape-and-imagenet-weights\n",
        "# https://www.youtube.com/watch?v=Fxy6WTnUIww\n",
        "\n",
        "# VGG16 model with pre-trained weights and without fully connected layer\n",
        "vgg16_feature_extractor = VGG16(include_top=False,\n",
        "                   input_shape=(SIZE, SIZE, 3),\n",
        "                   weights='imagenet')\n",
        "\n",
        "# loaded layers as non-trainable, freezing\n",
        "for layer in vgg16_feature_extractor.layers:\n",
        "\t  layer.trainable = False  # freeze VGG16 layers initially\n",
        "\n",
        "vgg16_feature_extractor.summary()"
      ],
      "metadata": {
        "colab": {
          "base_uri": "https://localhost:8080/",
          "height": 818
        },
        "id": "Wn9JF7bHTGPY",
        "outputId": "c0f4c996-c6be-4198-f1b4-ea4533a493b8"
      },
      "execution_count": null,
      "outputs": [
        {
          "output_type": "stream",
          "name": "stdout",
          "text": [
            "Downloading data from https://storage.googleapis.com/tensorflow/keras-applications/vgg16/vgg16_weights_tf_dim_ordering_tf_kernels_notop.h5\n",
            "\u001b[1m58889256/58889256\u001b[0m \u001b[32m━━━━━━━━━━━━━━━━━━━━\u001b[0m\u001b[37m\u001b[0m \u001b[1m4s\u001b[0m 0us/step\n"
          ]
        },
        {
          "output_type": "display_data",
          "data": {
            "text/plain": [
              "\u001b[1mModel: \"vgg16\"\u001b[0m\n"
            ],
            "text/html": [
              "<pre style=\"white-space:pre;overflow-x:auto;line-height:normal;font-family:Menlo,'DejaVu Sans Mono',consolas,'Courier New',monospace\"><span style=\"font-weight: bold\">Model: \"vgg16\"</span>\n",
              "</pre>\n"
            ]
          },
          "metadata": {}
        },
        {
          "output_type": "display_data",
          "data": {
            "text/plain": [
              "┏━━━━━━━━━━━━━━━━━━━━━━━━━━━━━━━━━━━━━━┳━━━━━━━━━━━━━━━━━━━━━━━━━━━━━┳━━━━━━━━━━━━━━━━━┓\n",
              "┃\u001b[1m \u001b[0m\u001b[1mLayer (type)                        \u001b[0m\u001b[1m \u001b[0m┃\u001b[1m \u001b[0m\u001b[1mOutput Shape               \u001b[0m\u001b[1m \u001b[0m┃\u001b[1m \u001b[0m\u001b[1m        Param #\u001b[0m\u001b[1m \u001b[0m┃\n",
              "┡━━━━━━━━━━━━━━━━━━━━━━━━━━━━━━━━━━━━━━╇━━━━━━━━━━━━━━━━━━━━━━━━━━━━━╇━━━━━━━━━━━━━━━━━┩\n",
              "│ input_layer (\u001b[38;5;33mInputLayer\u001b[0m)             │ (\u001b[38;5;45mNone\u001b[0m, \u001b[38;5;34m224\u001b[0m, \u001b[38;5;34m224\u001b[0m, \u001b[38;5;34m3\u001b[0m)         │               \u001b[38;5;34m0\u001b[0m │\n",
              "├──────────────────────────────────────┼─────────────────────────────┼─────────────────┤\n",
              "│ block1_conv1 (\u001b[38;5;33mConv2D\u001b[0m)                │ (\u001b[38;5;45mNone\u001b[0m, \u001b[38;5;34m224\u001b[0m, \u001b[38;5;34m224\u001b[0m, \u001b[38;5;34m64\u001b[0m)        │           \u001b[38;5;34m1,792\u001b[0m │\n",
              "├──────────────────────────────────────┼─────────────────────────────┼─────────────────┤\n",
              "│ block1_conv2 (\u001b[38;5;33mConv2D\u001b[0m)                │ (\u001b[38;5;45mNone\u001b[0m, \u001b[38;5;34m224\u001b[0m, \u001b[38;5;34m224\u001b[0m, \u001b[38;5;34m64\u001b[0m)        │          \u001b[38;5;34m36,928\u001b[0m │\n",
              "├──────────────────────────────────────┼─────────────────────────────┼─────────────────┤\n",
              "│ block1_pool (\u001b[38;5;33mMaxPooling2D\u001b[0m)           │ (\u001b[38;5;45mNone\u001b[0m, \u001b[38;5;34m112\u001b[0m, \u001b[38;5;34m112\u001b[0m, \u001b[38;5;34m64\u001b[0m)        │               \u001b[38;5;34m0\u001b[0m │\n",
              "├──────────────────────────────────────┼─────────────────────────────┼─────────────────┤\n",
              "│ block2_conv1 (\u001b[38;5;33mConv2D\u001b[0m)                │ (\u001b[38;5;45mNone\u001b[0m, \u001b[38;5;34m112\u001b[0m, \u001b[38;5;34m112\u001b[0m, \u001b[38;5;34m128\u001b[0m)       │          \u001b[38;5;34m73,856\u001b[0m │\n",
              "├──────────────────────────────────────┼─────────────────────────────┼─────────────────┤\n",
              "│ block2_conv2 (\u001b[38;5;33mConv2D\u001b[0m)                │ (\u001b[38;5;45mNone\u001b[0m, \u001b[38;5;34m112\u001b[0m, \u001b[38;5;34m112\u001b[0m, \u001b[38;5;34m128\u001b[0m)       │         \u001b[38;5;34m147,584\u001b[0m │\n",
              "├──────────────────────────────────────┼─────────────────────────────┼─────────────────┤\n",
              "│ block2_pool (\u001b[38;5;33mMaxPooling2D\u001b[0m)           │ (\u001b[38;5;45mNone\u001b[0m, \u001b[38;5;34m56\u001b[0m, \u001b[38;5;34m56\u001b[0m, \u001b[38;5;34m128\u001b[0m)         │               \u001b[38;5;34m0\u001b[0m │\n",
              "├──────────────────────────────────────┼─────────────────────────────┼─────────────────┤\n",
              "│ block3_conv1 (\u001b[38;5;33mConv2D\u001b[0m)                │ (\u001b[38;5;45mNone\u001b[0m, \u001b[38;5;34m56\u001b[0m, \u001b[38;5;34m56\u001b[0m, \u001b[38;5;34m256\u001b[0m)         │         \u001b[38;5;34m295,168\u001b[0m │\n",
              "├──────────────────────────────────────┼─────────────────────────────┼─────────────────┤\n",
              "│ block3_conv2 (\u001b[38;5;33mConv2D\u001b[0m)                │ (\u001b[38;5;45mNone\u001b[0m, \u001b[38;5;34m56\u001b[0m, \u001b[38;5;34m56\u001b[0m, \u001b[38;5;34m256\u001b[0m)         │         \u001b[38;5;34m590,080\u001b[0m │\n",
              "├──────────────────────────────────────┼─────────────────────────────┼─────────────────┤\n",
              "│ block3_conv3 (\u001b[38;5;33mConv2D\u001b[0m)                │ (\u001b[38;5;45mNone\u001b[0m, \u001b[38;5;34m56\u001b[0m, \u001b[38;5;34m56\u001b[0m, \u001b[38;5;34m256\u001b[0m)         │         \u001b[38;5;34m590,080\u001b[0m │\n",
              "├──────────────────────────────────────┼─────────────────────────────┼─────────────────┤\n",
              "│ block3_pool (\u001b[38;5;33mMaxPooling2D\u001b[0m)           │ (\u001b[38;5;45mNone\u001b[0m, \u001b[38;5;34m28\u001b[0m, \u001b[38;5;34m28\u001b[0m, \u001b[38;5;34m256\u001b[0m)         │               \u001b[38;5;34m0\u001b[0m │\n",
              "├──────────────────────────────────────┼─────────────────────────────┼─────────────────┤\n",
              "│ block4_conv1 (\u001b[38;5;33mConv2D\u001b[0m)                │ (\u001b[38;5;45mNone\u001b[0m, \u001b[38;5;34m28\u001b[0m, \u001b[38;5;34m28\u001b[0m, \u001b[38;5;34m512\u001b[0m)         │       \u001b[38;5;34m1,180,160\u001b[0m │\n",
              "├──────────────────────────────────────┼─────────────────────────────┼─────────────────┤\n",
              "│ block4_conv2 (\u001b[38;5;33mConv2D\u001b[0m)                │ (\u001b[38;5;45mNone\u001b[0m, \u001b[38;5;34m28\u001b[0m, \u001b[38;5;34m28\u001b[0m, \u001b[38;5;34m512\u001b[0m)         │       \u001b[38;5;34m2,359,808\u001b[0m │\n",
              "├──────────────────────────────────────┼─────────────────────────────┼─────────────────┤\n",
              "│ block4_conv3 (\u001b[38;5;33mConv2D\u001b[0m)                │ (\u001b[38;5;45mNone\u001b[0m, \u001b[38;5;34m28\u001b[0m, \u001b[38;5;34m28\u001b[0m, \u001b[38;5;34m512\u001b[0m)         │       \u001b[38;5;34m2,359,808\u001b[0m │\n",
              "├──────────────────────────────────────┼─────────────────────────────┼─────────────────┤\n",
              "│ block4_pool (\u001b[38;5;33mMaxPooling2D\u001b[0m)           │ (\u001b[38;5;45mNone\u001b[0m, \u001b[38;5;34m14\u001b[0m, \u001b[38;5;34m14\u001b[0m, \u001b[38;5;34m512\u001b[0m)         │               \u001b[38;5;34m0\u001b[0m │\n",
              "├──────────────────────────────────────┼─────────────────────────────┼─────────────────┤\n",
              "│ block5_conv1 (\u001b[38;5;33mConv2D\u001b[0m)                │ (\u001b[38;5;45mNone\u001b[0m, \u001b[38;5;34m14\u001b[0m, \u001b[38;5;34m14\u001b[0m, \u001b[38;5;34m512\u001b[0m)         │       \u001b[38;5;34m2,359,808\u001b[0m │\n",
              "├──────────────────────────────────────┼─────────────────────────────┼─────────────────┤\n",
              "│ block5_conv2 (\u001b[38;5;33mConv2D\u001b[0m)                │ (\u001b[38;5;45mNone\u001b[0m, \u001b[38;5;34m14\u001b[0m, \u001b[38;5;34m14\u001b[0m, \u001b[38;5;34m512\u001b[0m)         │       \u001b[38;5;34m2,359,808\u001b[0m │\n",
              "├──────────────────────────────────────┼─────────────────────────────┼─────────────────┤\n",
              "│ block5_conv3 (\u001b[38;5;33mConv2D\u001b[0m)                │ (\u001b[38;5;45mNone\u001b[0m, \u001b[38;5;34m14\u001b[0m, \u001b[38;5;34m14\u001b[0m, \u001b[38;5;34m512\u001b[0m)         │       \u001b[38;5;34m2,359,808\u001b[0m │\n",
              "├──────────────────────────────────────┼─────────────────────────────┼─────────────────┤\n",
              "│ block5_pool (\u001b[38;5;33mMaxPooling2D\u001b[0m)           │ (\u001b[38;5;45mNone\u001b[0m, \u001b[38;5;34m7\u001b[0m, \u001b[38;5;34m7\u001b[0m, \u001b[38;5;34m512\u001b[0m)           │               \u001b[38;5;34m0\u001b[0m │\n",
              "└──────────────────────────────────────┴─────────────────────────────┴─────────────────┘\n"
            ],
            "text/html": [
              "<pre style=\"white-space:pre;overflow-x:auto;line-height:normal;font-family:Menlo,'DejaVu Sans Mono',consolas,'Courier New',monospace\">┏━━━━━━━━━━━━━━━━━━━━━━━━━━━━━━━━━━━━━━┳━━━━━━━━━━━━━━━━━━━━━━━━━━━━━┳━━━━━━━━━━━━━━━━━┓\n",
              "┃<span style=\"font-weight: bold\"> Layer (type)                         </span>┃<span style=\"font-weight: bold\"> Output Shape                </span>┃<span style=\"font-weight: bold\">         Param # </span>┃\n",
              "┡━━━━━━━━━━━━━━━━━━━━━━━━━━━━━━━━━━━━━━╇━━━━━━━━━━━━━━━━━━━━━━━━━━━━━╇━━━━━━━━━━━━━━━━━┩\n",
              "│ input_layer (<span style=\"color: #0087ff; text-decoration-color: #0087ff\">InputLayer</span>)             │ (<span style=\"color: #00d7ff; text-decoration-color: #00d7ff\">None</span>, <span style=\"color: #00af00; text-decoration-color: #00af00\">224</span>, <span style=\"color: #00af00; text-decoration-color: #00af00\">224</span>, <span style=\"color: #00af00; text-decoration-color: #00af00\">3</span>)         │               <span style=\"color: #00af00; text-decoration-color: #00af00\">0</span> │\n",
              "├──────────────────────────────────────┼─────────────────────────────┼─────────────────┤\n",
              "│ block1_conv1 (<span style=\"color: #0087ff; text-decoration-color: #0087ff\">Conv2D</span>)                │ (<span style=\"color: #00d7ff; text-decoration-color: #00d7ff\">None</span>, <span style=\"color: #00af00; text-decoration-color: #00af00\">224</span>, <span style=\"color: #00af00; text-decoration-color: #00af00\">224</span>, <span style=\"color: #00af00; text-decoration-color: #00af00\">64</span>)        │           <span style=\"color: #00af00; text-decoration-color: #00af00\">1,792</span> │\n",
              "├──────────────────────────────────────┼─────────────────────────────┼─────────────────┤\n",
              "│ block1_conv2 (<span style=\"color: #0087ff; text-decoration-color: #0087ff\">Conv2D</span>)                │ (<span style=\"color: #00d7ff; text-decoration-color: #00d7ff\">None</span>, <span style=\"color: #00af00; text-decoration-color: #00af00\">224</span>, <span style=\"color: #00af00; text-decoration-color: #00af00\">224</span>, <span style=\"color: #00af00; text-decoration-color: #00af00\">64</span>)        │          <span style=\"color: #00af00; text-decoration-color: #00af00\">36,928</span> │\n",
              "├──────────────────────────────────────┼─────────────────────────────┼─────────────────┤\n",
              "│ block1_pool (<span style=\"color: #0087ff; text-decoration-color: #0087ff\">MaxPooling2D</span>)           │ (<span style=\"color: #00d7ff; text-decoration-color: #00d7ff\">None</span>, <span style=\"color: #00af00; text-decoration-color: #00af00\">112</span>, <span style=\"color: #00af00; text-decoration-color: #00af00\">112</span>, <span style=\"color: #00af00; text-decoration-color: #00af00\">64</span>)        │               <span style=\"color: #00af00; text-decoration-color: #00af00\">0</span> │\n",
              "├──────────────────────────────────────┼─────────────────────────────┼─────────────────┤\n",
              "│ block2_conv1 (<span style=\"color: #0087ff; text-decoration-color: #0087ff\">Conv2D</span>)                │ (<span style=\"color: #00d7ff; text-decoration-color: #00d7ff\">None</span>, <span style=\"color: #00af00; text-decoration-color: #00af00\">112</span>, <span style=\"color: #00af00; text-decoration-color: #00af00\">112</span>, <span style=\"color: #00af00; text-decoration-color: #00af00\">128</span>)       │          <span style=\"color: #00af00; text-decoration-color: #00af00\">73,856</span> │\n",
              "├──────────────────────────────────────┼─────────────────────────────┼─────────────────┤\n",
              "│ block2_conv2 (<span style=\"color: #0087ff; text-decoration-color: #0087ff\">Conv2D</span>)                │ (<span style=\"color: #00d7ff; text-decoration-color: #00d7ff\">None</span>, <span style=\"color: #00af00; text-decoration-color: #00af00\">112</span>, <span style=\"color: #00af00; text-decoration-color: #00af00\">112</span>, <span style=\"color: #00af00; text-decoration-color: #00af00\">128</span>)       │         <span style=\"color: #00af00; text-decoration-color: #00af00\">147,584</span> │\n",
              "├──────────────────────────────────────┼─────────────────────────────┼─────────────────┤\n",
              "│ block2_pool (<span style=\"color: #0087ff; text-decoration-color: #0087ff\">MaxPooling2D</span>)           │ (<span style=\"color: #00d7ff; text-decoration-color: #00d7ff\">None</span>, <span style=\"color: #00af00; text-decoration-color: #00af00\">56</span>, <span style=\"color: #00af00; text-decoration-color: #00af00\">56</span>, <span style=\"color: #00af00; text-decoration-color: #00af00\">128</span>)         │               <span style=\"color: #00af00; text-decoration-color: #00af00\">0</span> │\n",
              "├──────────────────────────────────────┼─────────────────────────────┼─────────────────┤\n",
              "│ block3_conv1 (<span style=\"color: #0087ff; text-decoration-color: #0087ff\">Conv2D</span>)                │ (<span style=\"color: #00d7ff; text-decoration-color: #00d7ff\">None</span>, <span style=\"color: #00af00; text-decoration-color: #00af00\">56</span>, <span style=\"color: #00af00; text-decoration-color: #00af00\">56</span>, <span style=\"color: #00af00; text-decoration-color: #00af00\">256</span>)         │         <span style=\"color: #00af00; text-decoration-color: #00af00\">295,168</span> │\n",
              "├──────────────────────────────────────┼─────────────────────────────┼─────────────────┤\n",
              "│ block3_conv2 (<span style=\"color: #0087ff; text-decoration-color: #0087ff\">Conv2D</span>)                │ (<span style=\"color: #00d7ff; text-decoration-color: #00d7ff\">None</span>, <span style=\"color: #00af00; text-decoration-color: #00af00\">56</span>, <span style=\"color: #00af00; text-decoration-color: #00af00\">56</span>, <span style=\"color: #00af00; text-decoration-color: #00af00\">256</span>)         │         <span style=\"color: #00af00; text-decoration-color: #00af00\">590,080</span> │\n",
              "├──────────────────────────────────────┼─────────────────────────────┼─────────────────┤\n",
              "│ block3_conv3 (<span style=\"color: #0087ff; text-decoration-color: #0087ff\">Conv2D</span>)                │ (<span style=\"color: #00d7ff; text-decoration-color: #00d7ff\">None</span>, <span style=\"color: #00af00; text-decoration-color: #00af00\">56</span>, <span style=\"color: #00af00; text-decoration-color: #00af00\">56</span>, <span style=\"color: #00af00; text-decoration-color: #00af00\">256</span>)         │         <span style=\"color: #00af00; text-decoration-color: #00af00\">590,080</span> │\n",
              "├──────────────────────────────────────┼─────────────────────────────┼─────────────────┤\n",
              "│ block3_pool (<span style=\"color: #0087ff; text-decoration-color: #0087ff\">MaxPooling2D</span>)           │ (<span style=\"color: #00d7ff; text-decoration-color: #00d7ff\">None</span>, <span style=\"color: #00af00; text-decoration-color: #00af00\">28</span>, <span style=\"color: #00af00; text-decoration-color: #00af00\">28</span>, <span style=\"color: #00af00; text-decoration-color: #00af00\">256</span>)         │               <span style=\"color: #00af00; text-decoration-color: #00af00\">0</span> │\n",
              "├──────────────────────────────────────┼─────────────────────────────┼─────────────────┤\n",
              "│ block4_conv1 (<span style=\"color: #0087ff; text-decoration-color: #0087ff\">Conv2D</span>)                │ (<span style=\"color: #00d7ff; text-decoration-color: #00d7ff\">None</span>, <span style=\"color: #00af00; text-decoration-color: #00af00\">28</span>, <span style=\"color: #00af00; text-decoration-color: #00af00\">28</span>, <span style=\"color: #00af00; text-decoration-color: #00af00\">512</span>)         │       <span style=\"color: #00af00; text-decoration-color: #00af00\">1,180,160</span> │\n",
              "├──────────────────────────────────────┼─────────────────────────────┼─────────────────┤\n",
              "│ block4_conv2 (<span style=\"color: #0087ff; text-decoration-color: #0087ff\">Conv2D</span>)                │ (<span style=\"color: #00d7ff; text-decoration-color: #00d7ff\">None</span>, <span style=\"color: #00af00; text-decoration-color: #00af00\">28</span>, <span style=\"color: #00af00; text-decoration-color: #00af00\">28</span>, <span style=\"color: #00af00; text-decoration-color: #00af00\">512</span>)         │       <span style=\"color: #00af00; text-decoration-color: #00af00\">2,359,808</span> │\n",
              "├──────────────────────────────────────┼─────────────────────────────┼─────────────────┤\n",
              "│ block4_conv3 (<span style=\"color: #0087ff; text-decoration-color: #0087ff\">Conv2D</span>)                │ (<span style=\"color: #00d7ff; text-decoration-color: #00d7ff\">None</span>, <span style=\"color: #00af00; text-decoration-color: #00af00\">28</span>, <span style=\"color: #00af00; text-decoration-color: #00af00\">28</span>, <span style=\"color: #00af00; text-decoration-color: #00af00\">512</span>)         │       <span style=\"color: #00af00; text-decoration-color: #00af00\">2,359,808</span> │\n",
              "├──────────────────────────────────────┼─────────────────────────────┼─────────────────┤\n",
              "│ block4_pool (<span style=\"color: #0087ff; text-decoration-color: #0087ff\">MaxPooling2D</span>)           │ (<span style=\"color: #00d7ff; text-decoration-color: #00d7ff\">None</span>, <span style=\"color: #00af00; text-decoration-color: #00af00\">14</span>, <span style=\"color: #00af00; text-decoration-color: #00af00\">14</span>, <span style=\"color: #00af00; text-decoration-color: #00af00\">512</span>)         │               <span style=\"color: #00af00; text-decoration-color: #00af00\">0</span> │\n",
              "├──────────────────────────────────────┼─────────────────────────────┼─────────────────┤\n",
              "│ block5_conv1 (<span style=\"color: #0087ff; text-decoration-color: #0087ff\">Conv2D</span>)                │ (<span style=\"color: #00d7ff; text-decoration-color: #00d7ff\">None</span>, <span style=\"color: #00af00; text-decoration-color: #00af00\">14</span>, <span style=\"color: #00af00; text-decoration-color: #00af00\">14</span>, <span style=\"color: #00af00; text-decoration-color: #00af00\">512</span>)         │       <span style=\"color: #00af00; text-decoration-color: #00af00\">2,359,808</span> │\n",
              "├──────────────────────────────────────┼─────────────────────────────┼─────────────────┤\n",
              "│ block5_conv2 (<span style=\"color: #0087ff; text-decoration-color: #0087ff\">Conv2D</span>)                │ (<span style=\"color: #00d7ff; text-decoration-color: #00d7ff\">None</span>, <span style=\"color: #00af00; text-decoration-color: #00af00\">14</span>, <span style=\"color: #00af00; text-decoration-color: #00af00\">14</span>, <span style=\"color: #00af00; text-decoration-color: #00af00\">512</span>)         │       <span style=\"color: #00af00; text-decoration-color: #00af00\">2,359,808</span> │\n",
              "├──────────────────────────────────────┼─────────────────────────────┼─────────────────┤\n",
              "│ block5_conv3 (<span style=\"color: #0087ff; text-decoration-color: #0087ff\">Conv2D</span>)                │ (<span style=\"color: #00d7ff; text-decoration-color: #00d7ff\">None</span>, <span style=\"color: #00af00; text-decoration-color: #00af00\">14</span>, <span style=\"color: #00af00; text-decoration-color: #00af00\">14</span>, <span style=\"color: #00af00; text-decoration-color: #00af00\">512</span>)         │       <span style=\"color: #00af00; text-decoration-color: #00af00\">2,359,808</span> │\n",
              "├──────────────────────────────────────┼─────────────────────────────┼─────────────────┤\n",
              "│ block5_pool (<span style=\"color: #0087ff; text-decoration-color: #0087ff\">MaxPooling2D</span>)           │ (<span style=\"color: #00d7ff; text-decoration-color: #00d7ff\">None</span>, <span style=\"color: #00af00; text-decoration-color: #00af00\">7</span>, <span style=\"color: #00af00; text-decoration-color: #00af00\">7</span>, <span style=\"color: #00af00; text-decoration-color: #00af00\">512</span>)           │               <span style=\"color: #00af00; text-decoration-color: #00af00\">0</span> │\n",
              "└──────────────────────────────────────┴─────────────────────────────┴─────────────────┘\n",
              "</pre>\n"
            ]
          },
          "metadata": {}
        },
        {
          "output_type": "display_data",
          "data": {
            "text/plain": [
              "\u001b[1m Total params: \u001b[0m\u001b[38;5;34m14,714,688\u001b[0m (56.13 MB)\n"
            ],
            "text/html": [
              "<pre style=\"white-space:pre;overflow-x:auto;line-height:normal;font-family:Menlo,'DejaVu Sans Mono',consolas,'Courier New',monospace\"><span style=\"font-weight: bold\"> Total params: </span><span style=\"color: #00af00; text-decoration-color: #00af00\">14,714,688</span> (56.13 MB)\n",
              "</pre>\n"
            ]
          },
          "metadata": {}
        },
        {
          "output_type": "display_data",
          "data": {
            "text/plain": [
              "\u001b[1m Trainable params: \u001b[0m\u001b[38;5;34m0\u001b[0m (0.00 B)\n"
            ],
            "text/html": [
              "<pre style=\"white-space:pre;overflow-x:auto;line-height:normal;font-family:Menlo,'DejaVu Sans Mono',consolas,'Courier New',monospace\"><span style=\"font-weight: bold\"> Trainable params: </span><span style=\"color: #00af00; text-decoration-color: #00af00\">0</span> (0.00 B)\n",
              "</pre>\n"
            ]
          },
          "metadata": {}
        },
        {
          "output_type": "display_data",
          "data": {
            "text/plain": [
              "\u001b[1m Non-trainable params: \u001b[0m\u001b[38;5;34m14,714,688\u001b[0m (56.13 MB)\n"
            ],
            "text/html": [
              "<pre style=\"white-space:pre;overflow-x:auto;line-height:normal;font-family:Menlo,'DejaVu Sans Mono',consolas,'Courier New',monospace\"><span style=\"font-weight: bold\"> Non-trainable params: </span><span style=\"color: #00af00; text-decoration-color: #00af00\">14,714,688</span> (56.13 MB)\n",
              "</pre>\n"
            ]
          },
          "metadata": {}
        }
      ]
    },
    {
      "cell_type": "code",
      "source": [
        "# https://towardsdatascience.com/fine-tuning-pre-trained-model-vgg-16-1277268c537f\n",
        "\n",
        "for i, layer in enumerate(vgg16_feature_extractor.layers):\n",
        "    print(i, layer.name, layer.trainable)"
      ],
      "metadata": {
        "colab": {
          "base_uri": "https://localhost:8080/"
        },
        "id": "YgvHCDa_1fX1",
        "outputId": "2f1ab0d6-5361-4ddb-b5b8-fd550a2a3f41"
      },
      "execution_count": null,
      "outputs": [
        {
          "output_type": "stream",
          "name": "stdout",
          "text": [
            "0 input_layer False\n",
            "1 block1_conv1 False\n",
            "2 block1_conv2 False\n",
            "3 block1_pool False\n",
            "4 block2_conv1 False\n",
            "5 block2_conv2 False\n",
            "6 block2_pool False\n",
            "7 block3_conv1 False\n",
            "8 block3_conv2 False\n",
            "9 block3_conv3 False\n",
            "10 block3_pool False\n",
            "11 block4_conv1 False\n",
            "12 block4_conv2 False\n",
            "13 block4_conv3 False\n",
            "14 block4_pool False\n",
            "15 block5_conv1 False\n",
            "16 block5_conv2 False\n",
            "17 block5_conv3 False\n",
            "18 block5_pool False\n"
          ]
        }
      ]
    },
    {
      "cell_type": "markdown",
      "source": [
        "# Hyperparameter Tuning"
      ],
      "metadata": {
        "id": "hofdSZRtCxmb"
      }
    },
    {
      "cell_type": "markdown",
      "source": [
        "**Hyperparameter tuning Function**"
      ],
      "metadata": {
        "id": "5buvqPnktNLf"
      }
    },
    {
      "cell_type": "code",
      "source": [
        "# https://www.digitalocean.com/community/tutorials/hyperparameter-optimization-with-keras-tuner\n",
        "# hp.Int() https://medium.com/swlh/hyperparameter-tuning-in-keras-tensorflow-2-with-keras-tuner-randomsearch-hyperband-3e212647778f\n",
        "# https://machinelearningmastery.com/how-to-reduce-overfitting-in-deep-learning-with-weight-regularization/\n",
        "# https://www.kaggle.com/code/mukeshmanral/using-kerastuner-dropout\n",
        "\n",
        "def custom_hyp_tune(hp):\n",
        "\n",
        "    custom_hp = keras.models.Sequential()\n",
        "    custom_hp.add(vgg16_feature_extractor)\n",
        "    custom_hp.add(Flatten())\n",
        "    custom_hp.add(Dense(hp.Int('dense_units', min_value=8, max_value=100, step=20),\n",
        "                        activation='relu',\n",
        "                        kernel_regularizer=regularizers.l2(0.01)))\n",
        "    custom_hp.add(Dropout(hp.Choice(name='dropout', values=[0.25, 0.5])))\n",
        "    custom_hp.add(Dense(10, activation='softmax'))\n",
        "\n",
        "    custom_hp.compile(optimizer=keras.optimizers.Adam(learning_rate=hp.Float('learning_rate',\n",
        "                                                                              min_value=1e-5, max_value=1e-2,\n",
        "                                                                              sampling='log')),\n",
        "                    loss='categorical_crossentropy', metrics=['accuracy'])\n",
        "\n",
        "    return custom_hp\n"
      ],
      "metadata": {
        "id": "RSfRaZBhq93r"
      },
      "execution_count": null,
      "outputs": []
    },
    {
      "cell_type": "markdown",
      "source": [
        ".search() is to perform hyperparameter tuning using Keras Tuner to find the best set of hyperparameters.\n",
        "\n",
        "performs a randomized search over the defined hyperparameter space, to identify the model configuration that provides the best validation accuracy."
      ],
      "metadata": {
        "id": "ECt7tGx9mWtH"
      }
    },
    {
      "cell_type": "markdown",
      "source": [
        "**Optimization with Random Search**"
      ],
      "metadata": {
        "id": "3plsy1iXtAQU"
      }
    },
    {
      "cell_type": "code",
      "source": [
        "# https://medium.com/@piyushkashyap045/mastering-hyperparameter-tuning-for-neural-networks-with-keras-tuner-c0b64d549188#:~:text=Keras%20Tuner%20is%20a%20library,tuning%20for%20deep%20learning%20models.\n",
        "\n",
        "# hyperparameters\n",
        "k_tuner = kt.RandomSearch(\n",
        "    custom_hyp_tune,\n",
        "    objective='val_accuracy',\n",
        "    max_trials=5,\n",
        "    seed=42,\n",
        "    directory='keras_tuning_directory',\n",
        "    project_name='hyperparameter_tuning'\n",
        ")\n",
        "\n",
        "early_stop = EarlyStopping(monitor='val_loss',\n",
        "                               patience=2,\n",
        "                               restore_best_weights=True)\n",
        "\n",
        "cp = ModelCheckpoint(filepath='custom_best_hyperparameter_model.keras', verbose=1, save_best_only=True)\n",
        "\n",
        "# random Search\n",
        "start = time.time()\n",
        "k_tuner.search(train_gen,\n",
        "               epochs=5,\n",
        "               steps_per_epoch = train_samples // batch_size,\n",
        "               validation_data=val_gen,\n",
        "               validation_steps = val_samples // batch_size,\n",
        "               class_weight = class_weights,\n",
        "               verbose=1,\n",
        "               callbacks=[cp, early_stop])\n",
        "end = time.time()\n",
        "print(f\"Search time: {end - start} seconds\")"
      ],
      "metadata": {
        "colab": {
          "base_uri": "https://localhost:8080/"
        },
        "id": "--sSca3du-_i",
        "outputId": "b21b26ce-de2d-41ee-d680-16eace4759ae"
      },
      "execution_count": null,
      "outputs": [
        {
          "output_type": "stream",
          "name": "stdout",
          "text": [
            "Trial 5 Complete [00h 06m 25s]\n",
            "val_accuracy: 0.3103298544883728\n",
            "\n",
            "Best val_accuracy So Far: 0.9702970385551453\n",
            "Total elapsed time: 00h 33m 13s\n",
            "Search time: 1993.128294467926 seconds\n"
          ]
        }
      ]
    },
    {
      "cell_type": "code",
      "source": [
        "best_hyperparameter = k_tuner.get_best_hyperparameters(1)[0]\n",
        "best_hyperparameter.values"
      ],
      "metadata": {
        "colab": {
          "base_uri": "https://localhost:8080/"
        },
        "id": "LObtywnklMPT",
        "outputId": "9a9f5a47-0b0a-46d6-ea31-17a0ca29edc3"
      },
      "execution_count": null,
      "outputs": [
        {
          "output_type": "execute_result",
          "data": {
            "text/plain": [
              "{'dense_units': 28, 'dropout': 0.5, 'learning_rate': 0.0007102715674987189}"
            ]
          },
          "metadata": {},
          "execution_count": 15
        }
      ]
    },
    {
      "cell_type": "code",
      "source": [
        "# to force delete a folder\n",
        "\n",
        "import tensorflow as tf\n",
        "!rm -rf /content/keras_tuning_directory"
      ],
      "metadata": {
        "id": "HXBRipzsZVXl"
      },
      "execution_count": null,
      "outputs": []
    },
    {
      "cell_type": "markdown",
      "source": [
        "# Model Training, validation, Testing"
      ],
      "metadata": {
        "id": "qS4KDI4YF45y"
      }
    },
    {
      "cell_type": "markdown",
      "source": [
        "**Function for experiments**"
      ],
      "metadata": {
        "id": "piQHkBzctQ8X"
      }
    },
    {
      "cell_type": "code",
      "source": [
        "def custom_model_experiments(neurons, dropout, learning_rate):\n",
        "\n",
        "    custom_model = keras.models.Sequential()\n",
        "    custom_model.add(vgg16_feature_extractor)\n",
        "    custom_model.add(Flatten())\n",
        "    custom_model.add(Dense(neurons, activation='relu', kernel_regularizer=regularizers.l2(0.01)))\n",
        "    custom_model.add(Dropout(dropout))\n",
        "    custom_model.add(Dense(10, activation='softmax'))\n",
        "\n",
        "    custom_model.compile(optimizer=keras.optimizers.Adam(learning_rate=learning_rate),\n",
        "                    loss='categorical_crossentropy', metrics=['accuracy'])\n",
        "\n",
        "    return custom_model"
      ],
      "metadata": {
        "id": "ejpmKQPTjzfz"
      },
      "execution_count": null,
      "outputs": []
    },
    {
      "cell_type": "markdown",
      "source": [
        "**Experimental Training**"
      ],
      "metadata": {
        "id": "mtw--tBOtVhF"
      }
    },
    {
      "cell_type": "code",
      "source": [
        "def train_and_evaluate(neurons, dropout, learning_rate, trial_id=1):\n",
        "\n",
        "    model = custom_model_experiments(neurons, dropout, learning_rate)\n",
        "\n",
        "    early_stop = EarlyStopping(monitor='val_loss',\n",
        "                               patience=2,\n",
        "                               restore_best_weights=True,\n",
        "                               verbose=1)\n",
        "\n",
        "    print(f\"for neurons={neurons}, dropout={dropout}, learning_rate={learning_rate}:\")\n",
        "\n",
        "    start = time.time()\n",
        "    best_model_history = model.fit(\n",
        "        train_gen,\n",
        "        steps_per_epoch = train_samples // batch_size,\n",
        "        validation_data = val_gen,\n",
        "        epochs = 5,\n",
        "        validation_steps = val_samples // batch_size,\n",
        "        class_weight = class_weights,\n",
        "        callbacks=[early_stop],\n",
        "        verbose=1\n",
        "        )\n",
        "    end = time.time()\n",
        "    print(f\"Training time: {end - start} seconds\")\n",
        "\n",
        "    val_accuracy = max(best_model_history.history['val_accuracy'])  # among 5 epoch\n",
        "    print(f\"Highest Validation Accuracy: {val_accuracy}\")\n",
        "\n",
        "    test_loss, test_accuracy = model.evaluate(test_gen, verbose=1)\n",
        "    print(f\"Test Accuracy: {test_accuracy}\")\n",
        "\n",
        "    model_filename = f'Experimental_trial_{trial_id}_model.h5'\n",
        "    model.save(model_filename)\n",
        "    print(f\"Model for experimental trial {trial_id} saved as {model_filename}\")\n",
        "\n",
        "    return val_accuracy, test_accuracy, model_filename\n"
      ],
      "metadata": {
        "id": "iel1Ttrx51zA"
      },
      "execution_count": null,
      "outputs": []
    },
    {
      "cell_type": "markdown",
      "source": [
        "# Tests and Experiments\n",
        "\n",
        "With different hyperparameter combinations"
      ],
      "metadata": {
        "id": "xnFHTax5XhOr"
      }
    },
    {
      "cell_type": "markdown",
      "source": [
        "**Test 1**\n",
        "\n",
        "Trial 1-6"
      ],
      "metadata": {
        "id": "pnHHPDkmWhmz"
      }
    },
    {
      "cell_type": "code",
      "source": [
        "results = []\n",
        "\n",
        "results.append(train_and_evaluate(28, 0.5, 0.0007, trial_id=1))\n",
        "results.append(train_and_evaluate(64, 0.5, 0.0007, trial_id=2))\n",
        "results.append(train_and_evaluate(128, 0.5, 0.0007, trial_id=3))\n",
        "results.append(train_and_evaluate(256, 0.5, 0.0007, trial_id=4))\n",
        "results.append(train_and_evaluate(512, 0.5, 0.0007, trial_id=5))\n",
        "results.append(train_and_evaluate(1024, 0.5, 0.0007, trial_id=6))\n",
        "\n",
        "for result in results:\n",
        "    val_accuracy, test_accuracy, model_filename = result\n",
        "    print(f\"Trial model {model_filename}: Validation Accuracy = {val_accuracy}, Test Accuracy = {test_accuracy}\")"
      ],
      "metadata": {
        "colab": {
          "base_uri": "https://localhost:8080/"
        },
        "id": "B1DBLrg2nSTG",
        "outputId": "3ba4697a-204c-452c-c100-8d91fdbaf709"
      },
      "execution_count": null,
      "outputs": [
        {
          "output_type": "stream",
          "name": "stdout",
          "text": [
            "for neurons=28, dropout=0.5, learning_rate=0.0007:\n",
            "Epoch 1/5\n",
            "\u001b[1m87/87\u001b[0m \u001b[32m━━━━━━━━━━━━━━━━━━━━\u001b[0m\u001b[37m\u001b[0m \u001b[1m127s\u001b[0m 1s/step - accuracy: 0.0704 - loss: 2.5908 - val_accuracy: 0.2947 - val_loss: 2.2802\n",
            "Epoch 2/5\n",
            "\u001b[1m87/87\u001b[0m \u001b[32m━━━━━━━━━━━━━━━━━━━━\u001b[0m\u001b[37m\u001b[0m \u001b[1m1s\u001b[0m 8ms/step - accuracy: 0.2422 - loss: 2.3373 - val_accuracy: 0.0000e+00 - val_loss: 1.8372\n",
            "Epoch 3/5\n",
            "\u001b[1m87/87\u001b[0m \u001b[32m━━━━━━━━━━━━━━━━━━━━\u001b[0m\u001b[37m\u001b[0m \u001b[1m124s\u001b[0m 1s/step - accuracy: 0.2339 - loss: 2.2644 - val_accuracy: 0.2431 - val_loss: 2.1995\n",
            "Epoch 4/5\n",
            "\u001b[1m87/87\u001b[0m \u001b[32m━━━━━━━━━━━━━━━━━━━━\u001b[0m\u001b[37m\u001b[0m \u001b[1m1s\u001b[0m 3ms/step - accuracy: 0.2344 - loss: 2.2078 - val_accuracy: 1.0000 - val_loss: 1.4122\n",
            "Epoch 5/5\n",
            "\u001b[1m87/87\u001b[0m \u001b[32m━━━━━━━━━━━━━━━━━━━━\u001b[0m\u001b[37m\u001b[0m \u001b[1m125s\u001b[0m 1s/step - accuracy: 0.2399 - loss: 2.1941 - val_accuracy: 0.2622 - val_loss: 2.1733\n",
            "Restoring model weights from the end of the best epoch: 4.\n",
            "Training time: 380.171267747879 seconds\n",
            "Highest Validation Accuracy: 1.0\n",
            "\u001b[1m19/19\u001b[0m \u001b[32m━━━━━━━━━━━━━━━━━━━━\u001b[0m\u001b[37m\u001b[0m \u001b[1m32s\u001b[0m 2s/step - accuracy: 0.0721 - loss: 2.2865\n"
          ]
        },
        {
          "output_type": "stream",
          "name": "stderr",
          "text": [
            "WARNING:absl:You are saving your model as an HDF5 file via `model.save()` or `keras.saving.save_model(model)`. This file format is considered legacy. We recommend using instead the native Keras format, e.g. `model.save('my_model.keras')` or `keras.saving.save_model(model, 'my_model.keras')`. \n"
          ]
        },
        {
          "output_type": "stream",
          "name": "stdout",
          "text": [
            "Test Accuracy: 0.2801330089569092\n",
            "Model for experimental trial 1 saved as Experimental_trial_1_model.h5\n",
            "for neurons=64, dropout=0.5, learning_rate=0.0007:\n",
            "Epoch 1/5\n",
            "\u001b[1m87/87\u001b[0m \u001b[32m━━━━━━━━━━━━━━━━━━━━\u001b[0m\u001b[37m\u001b[0m \u001b[1m128s\u001b[0m 1s/step - accuracy: 0.1538 - loss: 3.0652 - val_accuracy: 0.3472 - val_loss: 2.0147\n",
            "Epoch 2/5\n",
            "\u001b[1m87/87\u001b[0m \u001b[32m━━━━━━━━━━━━━━━━━━━━\u001b[0m\u001b[37m\u001b[0m \u001b[1m1s\u001b[0m 14ms/step - accuracy: 0.2578 - loss: 2.4039 - val_accuracy: 0.9109 - val_loss: 1.3787\n",
            "Epoch 3/5\n",
            "\u001b[1m87/87\u001b[0m \u001b[32m━━━━━━━━━━━━━━━━━━━━\u001b[0m\u001b[37m\u001b[0m \u001b[1m125s\u001b[0m 1s/step - accuracy: 0.2972 - loss: 2.1960 - val_accuracy: 0.4848 - val_loss: 1.7708\n",
            "Epoch 4/5\n",
            "\u001b[1m87/87\u001b[0m \u001b[32m━━━━━━━━━━━━━━━━━━━━\u001b[0m\u001b[37m\u001b[0m \u001b[1m1s\u001b[0m 3ms/step - accuracy: 0.3906 - loss: 1.9488 - val_accuracy: 1.0000 - val_loss: 0.9140\n",
            "Epoch 5/5\n",
            "\u001b[1m87/87\u001b[0m \u001b[32m━━━━━━━━━━━━━━━━━━━━\u001b[0m\u001b[37m\u001b[0m \u001b[1m124s\u001b[0m 1s/step - accuracy: 0.3074 - loss: 2.0364 - val_accuracy: 0.5820 - val_loss: 1.6384\n",
            "Restoring model weights from the end of the best epoch: 4.\n",
            "Training time: 381.6961510181427 seconds\n",
            "Highest Validation Accuracy: 1.0\n",
            "\u001b[1m19/19\u001b[0m \u001b[32m━━━━━━━━━━━━━━━━━━━━\u001b[0m\u001b[37m\u001b[0m \u001b[1m7s\u001b[0m 342ms/step - accuracy: 0.3976 - loss: 1.9472\n"
          ]
        },
        {
          "output_type": "stream",
          "name": "stderr",
          "text": [
            "WARNING:absl:You are saving your model as an HDF5 file via `model.save()` or `keras.saving.save_model(model)`. This file format is considered legacy. We recommend using instead the native Keras format, e.g. `model.save('my_model.keras')` or `keras.saving.save_model(model, 'my_model.keras')`. \n"
          ]
        },
        {
          "output_type": "stream",
          "name": "stdout",
          "text": [
            "Test Accuracy: 0.46550291776657104\n",
            "Model for experimental trial 2 saved as Experimental_trial_2_model.h5\n",
            "for neurons=128, dropout=0.5, learning_rate=0.0007:\n",
            "Epoch 1/5\n",
            "\u001b[1m87/87\u001b[0m \u001b[32m━━━━━━━━━━━━━━━━━━━━\u001b[0m\u001b[37m\u001b[0m \u001b[1m128s\u001b[0m 1s/step - accuracy: 0.2320 - loss: 3.6344 - val_accuracy: 0.6793 - val_loss: 1.7203\n",
            "Epoch 2/5\n",
            "\u001b[1m87/87\u001b[0m \u001b[32m━━━━━━━━━━━━━━━━━━━━\u001b[0m\u001b[37m\u001b[0m \u001b[1m2s\u001b[0m 18ms/step - accuracy: 0.3750 - loss: 2.0137 - val_accuracy: 0.7624 - val_loss: 1.6760\n",
            "Epoch 3/5\n",
            "\u001b[1m87/87\u001b[0m \u001b[32m━━━━━━━━━━━━━━━━━━━━\u001b[0m\u001b[37m\u001b[0m \u001b[1m124s\u001b[0m 1s/step - accuracy: 0.4024 - loss: 2.0020 - val_accuracy: 0.7305 - val_loss: 1.4015\n",
            "Epoch 4/5\n",
            "\u001b[1m87/87\u001b[0m \u001b[32m━━━━━━━━━━━━━━━━━━━━\u001b[0m\u001b[37m\u001b[0m \u001b[1m1s\u001b[0m 3ms/step - accuracy: 0.4141 - loss: 1.8538 - val_accuracy: 0.8911 - val_loss: 1.0881\n",
            "Epoch 5/5\n",
            "\u001b[1m87/87\u001b[0m \u001b[32m━━━━━━━━━━━━━━━━━━━━\u001b[0m\u001b[37m\u001b[0m \u001b[1m124s\u001b[0m 1s/step - accuracy: 0.4335 - loss: 1.7940 - val_accuracy: 0.7478 - val_loss: 1.2474\n",
            "Restoring model weights from the end of the best epoch: 4.\n",
            "Training time: 382.1507019996643 seconds\n",
            "Highest Validation Accuracy: 0.8910890817642212\n",
            "\u001b[1m19/19\u001b[0m \u001b[32m━━━━━━━━━━━━━━━━━━━━\u001b[0m\u001b[37m\u001b[0m \u001b[1m7s\u001b[0m 370ms/step - accuracy: 0.7166 - loss: 1.4633\n"
          ]
        },
        {
          "output_type": "stream",
          "name": "stderr",
          "text": [
            "WARNING:absl:You are saving your model as an HDF5 file via `model.save()` or `keras.saving.save_model(model)`. This file format is considered legacy. We recommend using instead the native Keras format, e.g. `model.save('my_model.keras')` or `keras.saving.save_model(model, 'my_model.keras')`. \n"
          ]
        },
        {
          "output_type": "stream",
          "name": "stdout",
          "text": [
            "Test Accuracy: 0.7277639508247375\n",
            "Model for experimental trial 3 saved as Experimental_trial_3_model.h5\n",
            "for neurons=256, dropout=0.5, learning_rate=0.0007:\n",
            "Epoch 1/5\n",
            "\u001b[1m87/87\u001b[0m \u001b[32m━━━━━━━━━━━━━━━━━━━━\u001b[0m\u001b[37m\u001b[0m \u001b[1m128s\u001b[0m 1s/step - accuracy: 0.2768 - loss: 4.8311 - val_accuracy: 0.7096 - val_loss: 1.6759\n",
            "Epoch 2/5\n",
            "\u001b[1m87/87\u001b[0m \u001b[32m━━━━━━━━━━━━━━━━━━━━\u001b[0m\u001b[37m\u001b[0m \u001b[1m2s\u001b[0m 18ms/step - accuracy: 0.4922 - loss: 2.1302 - val_accuracy: 0.4950 - val_loss: 1.7043\n",
            "Epoch 3/5\n",
            "\u001b[1m87/87\u001b[0m \u001b[32m━━━━━━━━━━━━━━━━━━━━\u001b[0m\u001b[37m\u001b[0m \u001b[1m125s\u001b[0m 1s/step - accuracy: 0.5259 - loss: 1.9458 - val_accuracy: 0.7318 - val_loss: 1.3022\n",
            "Epoch 4/5\n",
            "\u001b[1m87/87\u001b[0m \u001b[32m━━━━━━━━━━━━━━━━━━━━\u001b[0m\u001b[37m\u001b[0m \u001b[1m1s\u001b[0m 3ms/step - accuracy: 0.6250 - loss: 1.5570 - val_accuracy: 0.9307 - val_loss: 0.8949\n",
            "Epoch 5/5\n",
            "\u001b[1m87/87\u001b[0m \u001b[32m━━━━━━━━━━━━━━━━━━━━\u001b[0m\u001b[37m\u001b[0m \u001b[1m125s\u001b[0m 1s/step - accuracy: 0.5801 - loss: 1.6364 - val_accuracy: 0.7370 - val_loss: 1.1693\n",
            "Restoring model weights from the end of the best epoch: 4.\n",
            "Training time: 382.58489966392517 seconds\n",
            "Highest Validation Accuracy: 0.9306930899620056\n",
            "\u001b[1m19/19\u001b[0m \u001b[32m━━━━━━━━━━━━━━━━━━━━\u001b[0m\u001b[37m\u001b[0m \u001b[1m7s\u001b[0m 356ms/step - accuracy: 0.7227 - loss: 1.3354\n"
          ]
        },
        {
          "output_type": "stream",
          "name": "stderr",
          "text": [
            "WARNING:absl:You are saving your model as an HDF5 file via `model.save()` or `keras.saving.save_model(model)`. This file format is considered legacy. We recommend using instead the native Keras format, e.g. `model.save('my_model.keras')` or `keras.saving.save_model(model, 'my_model.keras')`. \n"
          ]
        },
        {
          "output_type": "stream",
          "name": "stdout",
          "text": [
            "Test Accuracy: 0.727348268032074\n",
            "Model for experimental trial 4 saved as Experimental_trial_4_model.h5\n",
            "for neurons=512, dropout=0.5, learning_rate=0.0007:\n",
            "Epoch 1/5\n",
            "\u001b[1m87/87\u001b[0m \u001b[32m━━━━━━━━━━━━━━━━━━━━\u001b[0m\u001b[37m\u001b[0m \u001b[1m128s\u001b[0m 1s/step - accuracy: 0.3049 - loss: 7.1340 - val_accuracy: 0.7248 - val_loss: 1.9062\n",
            "Epoch 2/5\n",
            "\u001b[1m87/87\u001b[0m \u001b[32m━━━━━━━━━━━━━━━━━━━━\u001b[0m\u001b[37m\u001b[0m \u001b[1m2s\u001b[0m 23ms/step - accuracy: 0.5391 - loss: 2.3140 - val_accuracy: 0.7228 - val_loss: 1.7733\n",
            "Epoch 3/5\n",
            "\u001b[1m87/87\u001b[0m \u001b[32m━━━━━━━━━━━━━━━━━━━━\u001b[0m\u001b[37m\u001b[0m \u001b[1m124s\u001b[0m 1s/step - accuracy: 0.5787 - loss: 2.0363 - val_accuracy: 0.7561 - val_loss: 1.3883\n",
            "Epoch 4/5\n",
            "\u001b[1m87/87\u001b[0m \u001b[32m━━━━━━━━━━━━━━━━━━━━\u001b[0m\u001b[37m\u001b[0m \u001b[1m1s\u001b[0m 3ms/step - accuracy: 0.5547 - loss: 1.6952 - val_accuracy: 0.9010 - val_loss: 0.9662\n",
            "Epoch 5/5\n",
            "\u001b[1m87/87\u001b[0m \u001b[32m━━━━━━━━━━━━━━━━━━━━\u001b[0m\u001b[37m\u001b[0m \u001b[1m125s\u001b[0m 1s/step - accuracy: 0.6235 - loss: 1.6373 - val_accuracy: 0.7548 - val_loss: 1.1730\n",
            "Restoring model weights from the end of the best epoch: 4.\n",
            "Training time: 383.11161637306213 seconds\n",
            "Highest Validation Accuracy: 0.9009901285171509\n",
            "\u001b[1m19/19\u001b[0m \u001b[32m━━━━━━━━━━━━━━━━━━━━\u001b[0m\u001b[37m\u001b[0m \u001b[1m7s\u001b[0m 378ms/step - accuracy: 0.7262 - loss: 1.4800\n"
          ]
        },
        {
          "output_type": "stream",
          "name": "stderr",
          "text": [
            "WARNING:absl:You are saving your model as an HDF5 file via `model.save()` or `keras.saving.save_model(model)`. This file format is considered legacy. We recommend using instead the native Keras format, e.g. `model.save('my_model.keras')` or `keras.saving.save_model(model, 'my_model.keras')`. \n"
          ]
        },
        {
          "output_type": "stream",
          "name": "stdout",
          "text": [
            "Test Accuracy: 0.7614297866821289\n",
            "Model for experimental trial 5 saved as Experimental_trial_5_model.h5\n",
            "for neurons=1024, dropout=0.5, learning_rate=0.0007:\n",
            "Epoch 1/5\n",
            "\u001b[1m87/87\u001b[0m \u001b[32m━━━━━━━━━━━━━━━━━━━━\u001b[0m\u001b[37m\u001b[0m \u001b[1m128s\u001b[0m 1s/step - accuracy: 0.3115 - loss: 11.7413 - val_accuracy: 0.7578 - val_loss: 2.2246\n",
            "Epoch 2/5\n",
            "\u001b[1m87/87\u001b[0m \u001b[32m━━━━━━━━━━━━━━━━━━━━\u001b[0m\u001b[37m\u001b[0m \u001b[1m2s\u001b[0m 24ms/step - accuracy: 0.6250 - loss: 2.5067 - val_accuracy: 0.9010 - val_loss: 1.8488\n",
            "Epoch 3/5\n",
            "\u001b[1m87/87\u001b[0m \u001b[32m━━━━━━━━━━━━━━━━━━━━\u001b[0m\u001b[37m\u001b[0m \u001b[1m125s\u001b[0m 1s/step - accuracy: 0.6154 - loss: 2.3111 - val_accuracy: 0.7713 - val_loss: 1.4816\n",
            "Epoch 4/5\n",
            "\u001b[1m87/87\u001b[0m \u001b[32m━━━━━━━━━━━━━━━━━━━━\u001b[0m\u001b[37m\u001b[0m \u001b[1m1s\u001b[0m 4ms/step - accuracy: 0.6641 - loss: 1.6104 - val_accuracy: 0.7921 - val_loss: 1.3056\n",
            "Epoch 5/5\n",
            "\u001b[1m87/87\u001b[0m \u001b[32m━━━━━━━━━━━━━━━━━━━━\u001b[0m\u001b[37m\u001b[0m \u001b[1m125s\u001b[0m 1s/step - accuracy: 0.6558 - loss: 1.7227 - val_accuracy: 0.7938 - val_loss: 1.1823\n",
            "Restoring model weights from the end of the best epoch: 5.\n",
            "Training time: 383.3356022834778 seconds\n",
            "Highest Validation Accuracy: 0.9009901285171509\n",
            "\u001b[1m19/19\u001b[0m \u001b[32m━━━━━━━━━━━━━━━━━━━━\u001b[0m\u001b[37m\u001b[0m \u001b[1m7s\u001b[0m 378ms/step - accuracy: 0.7833 - loss: 1.2286\n"
          ]
        },
        {
          "output_type": "stream",
          "name": "stderr",
          "text": [
            "WARNING:absl:You are saving your model as an HDF5 file via `model.save()` or `keras.saving.save_model(model)`. This file format is considered legacy. We recommend using instead the native Keras format, e.g. `model.save('my_model.keras')` or `keras.saving.save_model(model, 'my_model.keras')`. \n"
          ]
        },
        {
          "output_type": "stream",
          "name": "stdout",
          "text": [
            "Test Accuracy: 0.7896924614906311\n",
            "Model for experimental trial 6 saved as Experimental_trial_6_model.h5\n",
            "Trial model Experimental_trial_1_model.h5: Validation Accuracy = 1.0, Test Accuracy = 0.2801330089569092\n",
            "Trial model Experimental_trial_2_model.h5: Validation Accuracy = 1.0, Test Accuracy = 0.46550291776657104\n",
            "Trial model Experimental_trial_3_model.h5: Validation Accuracy = 0.8910890817642212, Test Accuracy = 0.7277639508247375\n",
            "Trial model Experimental_trial_4_model.h5: Validation Accuracy = 0.9306930899620056, Test Accuracy = 0.727348268032074\n",
            "Trial model Experimental_trial_5_model.h5: Validation Accuracy = 0.9009901285171509, Test Accuracy = 0.7614297866821289\n",
            "Trial model Experimental_trial_6_model.h5: Validation Accuracy = 0.9009901285171509, Test Accuracy = 0.7896924614906311\n"
          ]
        }
      ]
    },
    {
      "cell_type": "markdown",
      "source": [
        "**Test 2**\n",
        "\n",
        "Trial 7-12"
      ],
      "metadata": {
        "id": "QR7MXnxfWmxv"
      }
    },
    {
      "cell_type": "code",
      "source": [
        "results2 = []\n",
        "\n",
        "results2.append(train_and_evaluate(28, 0.25, 0.0007, trial_id=7))\n",
        "results2.append(train_and_evaluate(64, 0.25, 0.0007, trial_id=8))\n",
        "results2.append(train_and_evaluate(128, 0.25, 0.0007, trial_id=9))\n",
        "results2.append(train_and_evaluate(256, 0.25, 0.0007, trial_id=10))\n",
        "results2.append(train_and_evaluate(512, 0.25, 0.0007, trial_id=11))\n",
        "results2.append(train_and_evaluate(1024, 0.25, 0.0007, trial_id=12))\n",
        "\n",
        "for result in results2:\n",
        "    val_accuracy, test_accuracy, model_filename = result\n",
        "    print(f\"Trial model {model_filename}: Validation Accuracy = {val_accuracy}, Test Accuracy = {test_accuracy}\")"
      ],
      "metadata": {
        "colab": {
          "base_uri": "https://localhost:8080/"
        },
        "id": "uiMONyf2UgDe",
        "outputId": "600b0fd4-98e1-4742-df69-9cf8e86de667"
      },
      "execution_count": null,
      "outputs": [
        {
          "output_type": "stream",
          "name": "stdout",
          "text": [
            "for neurons=28, dropout=0.25, learning_rate=0.0007:\n",
            "Epoch 1/5\n",
            "\u001b[1m87/87\u001b[0m \u001b[32m━━━━━━━━━━━━━━━━━━━━\u001b[0m\u001b[37m\u001b[0m \u001b[1m127s\u001b[0m 1s/step - accuracy: 0.1410 - loss: 2.5848 - val_accuracy: 0.2530 - val_loss: 2.0595\n",
            "Epoch 2/5\n",
            "\u001b[1m87/87\u001b[0m \u001b[32m━━━━━━━━━━━━━━━━━━━━\u001b[0m\u001b[37m\u001b[0m \u001b[1m1s\u001b[0m 8ms/step - accuracy: 0.1875 - loss: 2.1551 - val_accuracy: 0.0000e+00 - val_loss: 2.4446\n",
            "Epoch 3/5\n",
            "\u001b[1m87/87\u001b[0m \u001b[32m━━━━━━━━━━━━━━━━━━━━\u001b[0m\u001b[37m\u001b[0m \u001b[1m125s\u001b[0m 1s/step - accuracy: 0.2309 - loss: 2.1935 - val_accuracy: 0.4240 - val_loss: 1.8956\n",
            "Epoch 4/5\n",
            "\u001b[1m87/87\u001b[0m \u001b[32m━━━━━━━━━━━━━━━━━━━━\u001b[0m\u001b[37m\u001b[0m \u001b[1m1s\u001b[0m 3ms/step - accuracy: 0.3125 - loss: 2.1675 - val_accuracy: 0.0000e+00 - val_loss: 2.3558\n",
            "Epoch 5/5\n",
            "\u001b[1m87/87\u001b[0m \u001b[32m━━━━━━━━━━━━━━━━━━━━\u001b[0m\u001b[37m\u001b[0m \u001b[1m124s\u001b[0m 1s/step - accuracy: 0.3082 - loss: 2.0687 - val_accuracy: 0.4280 - val_loss: 1.8013\n",
            "Restoring model weights from the end of the best epoch: 5.\n",
            "Training time: 380.79856300354004 seconds\n",
            "Highest Validation Accuracy: 0.4279513955116272\n",
            "\u001b[1m19/19\u001b[0m \u001b[32m━━━━━━━━━━━━━━━━━━━━\u001b[0m\u001b[37m\u001b[0m \u001b[1m6s\u001b[0m 310ms/step - accuracy: 0.4867 - loss: 1.7321\n"
          ]
        },
        {
          "output_type": "stream",
          "name": "stderr",
          "text": [
            "WARNING:absl:You are saving your model as an HDF5 file via `model.save()` or `keras.saving.save_model(model)`. This file format is considered legacy. We recommend using instead the native Keras format, e.g. `model.save('my_model.keras')` or `keras.saving.save_model(model, 'my_model.keras')`. \n"
          ]
        },
        {
          "output_type": "stream",
          "name": "stdout",
          "text": [
            "Test Accuracy: 0.40856191515922546\n",
            "Model for experimental trial 7 saved as Experimental_trial_7_model.h5\n",
            "for neurons=64, dropout=0.25, learning_rate=0.0007:\n",
            "Epoch 1/5\n",
            "\u001b[1m87/87\u001b[0m \u001b[32m━━━━━━━━━━━━━━━━━━━━\u001b[0m\u001b[37m\u001b[0m \u001b[1m127s\u001b[0m 1s/step - accuracy: 0.2760 - loss: 2.7283 - val_accuracy: 0.6332 - val_loss: 1.5382\n",
            "Epoch 2/5\n",
            "\u001b[1m87/87\u001b[0m \u001b[32m━━━━━━━━━━━━━━━━━━━━\u001b[0m\u001b[37m\u001b[0m \u001b[1m1s\u001b[0m 8ms/step - accuracy: 0.3672 - loss: 2.1859 - val_accuracy: 0.9109 - val_loss: 1.1357\n",
            "Epoch 3/5\n",
            "\u001b[1m87/87\u001b[0m \u001b[32m━━━━━━━━━━━━━━━━━━━━\u001b[0m\u001b[37m\u001b[0m \u001b[1m124s\u001b[0m 1s/step - accuracy: 0.4749 - loss: 1.7588 - val_accuracy: 0.6923 - val_loss: 1.3075\n",
            "Epoch 4/5\n",
            "\u001b[1m87/87\u001b[0m \u001b[32m━━━━━━━━━━━━━━━━━━━━\u001b[0m\u001b[37m\u001b[0m \u001b[1m1s\u001b[0m 3ms/step - accuracy: 0.5078 - loss: 1.5191 - val_accuracy: 0.9802 - val_loss: 0.7590\n",
            "Epoch 5/5\n",
            "\u001b[1m87/87\u001b[0m \u001b[32m━━━━━━━━━━━━━━━━━━━━\u001b[0m\u001b[37m\u001b[0m \u001b[1m124s\u001b[0m 1s/step - accuracy: 0.5118 - loss: 1.5991 - val_accuracy: 0.7318 - val_loss: 1.1942\n",
            "Restoring model weights from the end of the best epoch: 4.\n",
            "Training time: 380.366233587265 seconds\n",
            "Highest Validation Accuracy: 0.9801980257034302\n",
            "\u001b[1m19/19\u001b[0m \u001b[32m━━━━━━━━━━━━━━━━━━━━\u001b[0m\u001b[37m\u001b[0m \u001b[1m6s\u001b[0m 310ms/step - accuracy: 0.6774 - loss: 1.3818\n"
          ]
        },
        {
          "output_type": "stream",
          "name": "stderr",
          "text": [
            "WARNING:absl:You are saving your model as an HDF5 file via `model.save()` or `keras.saving.save_model(model)`. This file format is considered legacy. We recommend using instead the native Keras format, e.g. `model.save('my_model.keras')` or `keras.saving.save_model(model, 'my_model.keras')`. \n"
          ]
        },
        {
          "output_type": "stream",
          "name": "stdout",
          "text": [
            "Test Accuracy: 0.7019950151443481\n",
            "Model for experimental trial 8 saved as Experimental_trial_8_model.h5\n",
            "for neurons=128, dropout=0.25, learning_rate=0.0007:\n",
            "Epoch 1/5\n",
            "\u001b[1m87/87\u001b[0m \u001b[32m━━━━━━━━━━━━━━━━━━━━\u001b[0m\u001b[37m\u001b[0m \u001b[1m127s\u001b[0m 1s/step - accuracy: 0.2535 - loss: 3.4177 - val_accuracy: 0.6871 - val_loss: 1.5392\n",
            "Epoch 2/5\n",
            "\u001b[1m87/87\u001b[0m \u001b[32m━━━━━━━━━━━━━━━━━━━━\u001b[0m\u001b[37m\u001b[0m \u001b[1m1s\u001b[0m 9ms/step - accuracy: 0.4375 - loss: 2.2804 - val_accuracy: 0.7327 - val_loss: 1.2967\n",
            "Epoch 3/5\n",
            "\u001b[1m87/87\u001b[0m \u001b[32m━━━━━━━━━━━━━━━━━━━━\u001b[0m\u001b[37m\u001b[0m \u001b[1m125s\u001b[0m 1s/step - accuracy: 0.5159 - loss: 1.7351 - val_accuracy: 0.7600 - val_loss: 1.1631\n",
            "Epoch 4/5\n",
            "\u001b[1m87/87\u001b[0m \u001b[32m━━━━━━━━━━━━━━━━━━━━\u001b[0m\u001b[37m\u001b[0m \u001b[1m1s\u001b[0m 3ms/step - accuracy: 0.5625 - loss: 1.6660 - val_accuracy: 0.8119 - val_loss: 0.9840\n",
            "Epoch 5/5\n",
            "\u001b[1m87/87\u001b[0m \u001b[32m━━━━━━━━━━━━━━━━━━━━\u001b[0m\u001b[37m\u001b[0m \u001b[1m124s\u001b[0m 1s/step - accuracy: 0.5782 - loss: 1.5258 - val_accuracy: 0.7726 - val_loss: 1.0960\n",
            "Restoring model weights from the end of the best epoch: 4.\n",
            "Training time: 380.6673586368561 seconds\n",
            "Highest Validation Accuracy: 0.8118811845779419\n",
            "\u001b[1m19/19\u001b[0m \u001b[32m━━━━━━━━━━━━━━━━━━━━\u001b[0m\u001b[37m\u001b[0m \u001b[1m6s\u001b[0m 311ms/step - accuracy: 0.7355 - loss: 1.1842\n"
          ]
        },
        {
          "output_type": "stream",
          "name": "stderr",
          "text": [
            "WARNING:absl:You are saving your model as an HDF5 file via `model.save()` or `keras.saving.save_model(model)`. This file format is considered legacy. We recommend using instead the native Keras format, e.g. `model.save('my_model.keras')` or `keras.saving.save_model(model, 'my_model.keras')`. \n"
          ]
        },
        {
          "output_type": "stream",
          "name": "stdout",
          "text": [
            "Test Accuracy: 0.7485452890396118\n",
            "Model for experimental trial 9 saved as Experimental_trial_9_model.h5\n",
            "for neurons=256, dropout=0.25, learning_rate=0.0007:\n",
            "Epoch 1/5\n",
            "\u001b[1m87/87\u001b[0m \u001b[32m━━━━━━━━━━━━━━━━━━━━\u001b[0m\u001b[37m\u001b[0m \u001b[1m128s\u001b[0m 1s/step - accuracy: 0.2840 - loss: 5.1223 - val_accuracy: 0.6710 - val_loss: 1.7222\n",
            "Epoch 2/5\n",
            "\u001b[1m87/87\u001b[0m \u001b[32m━━━━━━━━━━━━━━━━━━━━\u001b[0m\u001b[37m\u001b[0m \u001b[1m1s\u001b[0m 8ms/step - accuracy: 0.5625 - loss: 2.0017 - val_accuracy: 0.4059 - val_loss: 1.9180\n",
            "Epoch 3/5\n",
            "\u001b[1m87/87\u001b[0m \u001b[32m━━━━━━━━━━━━━━━━━━━━\u001b[0m\u001b[37m\u001b[0m \u001b[1m125s\u001b[0m 1s/step - accuracy: 0.5710 - loss: 1.8545 - val_accuracy: 0.7209 - val_loss: 1.2683\n",
            "Epoch 4/5\n",
            "\u001b[1m87/87\u001b[0m \u001b[32m━━━━━━━━━━━━━━━━━━━━\u001b[0m\u001b[37m\u001b[0m \u001b[1m1s\u001b[0m 3ms/step - accuracy: 0.6328 - loss: 1.7106 - val_accuracy: 0.8713 - val_loss: 0.9231\n",
            "Epoch 5/5\n",
            "\u001b[1m87/87\u001b[0m \u001b[32m━━━━━━━━━━━━━━━━━━━━\u001b[0m\u001b[37m\u001b[0m \u001b[1m125s\u001b[0m 1s/step - accuracy: 0.6493 - loss: 1.4691 - val_accuracy: 0.8021 - val_loss: 1.0247\n",
            "Restoring model weights from the end of the best epoch: 4.\n",
            "Training time: 382.0353925228119 seconds\n",
            "Highest Validation Accuracy: 0.8712871074676514\n",
            "\u001b[1m19/19\u001b[0m \u001b[32m━━━━━━━━━━━━━━━━━━━━\u001b[0m\u001b[37m\u001b[0m \u001b[1m6s\u001b[0m 310ms/step - accuracy: 0.7000 - loss: 1.2773\n"
          ]
        },
        {
          "output_type": "stream",
          "name": "stderr",
          "text": [
            "WARNING:absl:You are saving your model as an HDF5 file via `model.save()` or `keras.saving.save_model(model)`. This file format is considered legacy. We recommend using instead the native Keras format, e.g. `model.save('my_model.keras')` or `keras.saving.save_model(model, 'my_model.keras')`. \n"
          ]
        },
        {
          "output_type": "stream",
          "name": "stdout",
          "text": [
            "Test Accuracy: 0.729010820388794\n",
            "Model for experimental trial 10 saved as Experimental_trial_10_model.h5\n",
            "for neurons=512, dropout=0.25, learning_rate=0.0007:\n",
            "Epoch 1/5\n",
            "\u001b[1m87/87\u001b[0m \u001b[32m━━━━━━━━━━━━━━━━━━━━\u001b[0m\u001b[37m\u001b[0m \u001b[1m128s\u001b[0m 1s/step - accuracy: 0.3405 - loss: 7.4491 - val_accuracy: 0.7760 - val_loss: 1.7634\n",
            "Epoch 2/5\n",
            "\u001b[1m87/87\u001b[0m \u001b[32m━━━━━━━━━━━━━━━━━━━━\u001b[0m\u001b[37m\u001b[0m \u001b[1m1s\u001b[0m 8ms/step - accuracy: 0.6719 - loss: 2.1908 - val_accuracy: 0.8515 - val_loss: 1.6803\n",
            "Epoch 3/5\n",
            "\u001b[1m87/87\u001b[0m \u001b[32m━━━━━━━━━━━━━━━━━━━━\u001b[0m\u001b[37m\u001b[0m \u001b[1m125s\u001b[0m 1s/step - accuracy: 0.6797 - loss: 1.8475 - val_accuracy: 0.7873 - val_loss: 1.2617\n",
            "Epoch 4/5\n",
            "\u001b[1m87/87\u001b[0m \u001b[32m━━━━━━━━━━━━━━━━━━━━\u001b[0m\u001b[37m\u001b[0m \u001b[1m1s\u001b[0m 3ms/step - accuracy: 0.7344 - loss: 1.6049 - val_accuracy: 0.4950 - val_loss: 1.6008\n",
            "Epoch 5/5\n",
            "\u001b[1m87/87\u001b[0m \u001b[32m━━━━━━━━━━━━━━━━━━━━\u001b[0m\u001b[37m\u001b[0m \u001b[1m124s\u001b[0m 1s/step - accuracy: 0.7122 - loss: 1.4282 - val_accuracy: 0.7435 - val_loss: 1.1998\n",
            "Restoring model weights from the end of the best epoch: 5.\n",
            "Training time: 381.3581292629242 seconds\n",
            "Highest Validation Accuracy: 0.8514851331710815\n",
            "\u001b[1m19/19\u001b[0m \u001b[32m━━━━━━━━━━━━━━━━━━━━\u001b[0m\u001b[37m\u001b[0m \u001b[1m6s\u001b[0m 309ms/step - accuracy: 0.7325 - loss: 1.3006\n"
          ]
        },
        {
          "output_type": "stream",
          "name": "stderr",
          "text": [
            "WARNING:absl:You are saving your model as an HDF5 file via `model.save()` or `keras.saving.save_model(model)`. This file format is considered legacy. We recommend using instead the native Keras format, e.g. `model.save('my_model.keras')` or `keras.saving.save_model(model, 'my_model.keras')`. \n"
          ]
        },
        {
          "output_type": "stream",
          "name": "stdout",
          "text": [
            "Test Accuracy: 0.7489609122276306\n",
            "Model for experimental trial 11 saved as Experimental_trial_11_model.h5\n",
            "for neurons=1024, dropout=0.25, learning_rate=0.0007:\n",
            "Epoch 1/5\n",
            "\u001b[1m87/87\u001b[0m \u001b[32m━━━━━━━━━━━━━━━━━━━━\u001b[0m\u001b[37m\u001b[0m \u001b[1m127s\u001b[0m 1s/step - accuracy: 0.3152 - loss: 12.2689 - val_accuracy: 0.7591 - val_loss: 2.2479\n",
            "Epoch 2/5\n",
            "\u001b[1m87/87\u001b[0m \u001b[32m━━━━━━━━━━━━━━━━━━━━\u001b[0m\u001b[37m\u001b[0m \u001b[1m1s\u001b[0m 9ms/step - accuracy: 0.6953 - loss: 2.5805 - val_accuracy: 0.8020 - val_loss: 2.0619\n",
            "Epoch 3/5\n",
            "\u001b[1m87/87\u001b[0m \u001b[32m━━━━━━━━━━━━━━━━━━━━\u001b[0m\u001b[37m\u001b[0m \u001b[1m125s\u001b[0m 1s/step - accuracy: 0.6783 - loss: 2.2087 - val_accuracy: 0.7812 - val_loss: 1.4277\n",
            "Epoch 4/5\n",
            "\u001b[1m87/87\u001b[0m \u001b[32m━━━━━━━━━━━━━━━━━━━━\u001b[0m\u001b[37m\u001b[0m \u001b[1m1s\u001b[0m 4ms/step - accuracy: 0.7422 - loss: 1.6831 - val_accuracy: 0.9208 - val_loss: 1.1293\n",
            "Epoch 5/5\n",
            "\u001b[1m87/87\u001b[0m \u001b[32m━━━━━━━━━━━━━━━━━━━━\u001b[0m\u001b[37m\u001b[0m \u001b[1m125s\u001b[0m 1s/step - accuracy: 0.7263 - loss: 1.5242 - val_accuracy: 0.7878 - val_loss: 1.1683\n",
            "Restoring model weights from the end of the best epoch: 4.\n",
            "Training time: 381.5086307525635 seconds\n",
            "Highest Validation Accuracy: 0.9207921028137207\n",
            "\u001b[1m19/19\u001b[0m \u001b[32m━━━━━━━━━━━━━━━━━━━━\u001b[0m\u001b[37m\u001b[0m \u001b[1m6s\u001b[0m 310ms/step - accuracy: 0.7714 - loss: 1.4375\n"
          ]
        },
        {
          "output_type": "stream",
          "name": "stderr",
          "text": [
            "WARNING:absl:You are saving your model as an HDF5 file via `model.save()` or `keras.saving.save_model(model)`. This file format is considered legacy. We recommend using instead the native Keras format, e.g. `model.save('my_model.keras')` or `keras.saving.save_model(model, 'my_model.keras')`. \n"
          ]
        },
        {
          "output_type": "stream",
          "name": "stdout",
          "text": [
            "Test Accuracy: 0.7776392102241516\n",
            "Model for experimental trial 12 saved as Experimental_trial_12_model.h5\n",
            "Trial model Experimental_trial_7_model.h5: Validation Accuracy = 0.4279513955116272, Test Accuracy = 0.40856191515922546\n",
            "Trial model Experimental_trial_8_model.h5: Validation Accuracy = 0.9801980257034302, Test Accuracy = 0.7019950151443481\n",
            "Trial model Experimental_trial_9_model.h5: Validation Accuracy = 0.8118811845779419, Test Accuracy = 0.7485452890396118\n",
            "Trial model Experimental_trial_10_model.h5: Validation Accuracy = 0.8712871074676514, Test Accuracy = 0.729010820388794\n",
            "Trial model Experimental_trial_11_model.h5: Validation Accuracy = 0.8514851331710815, Test Accuracy = 0.7489609122276306\n",
            "Trial model Experimental_trial_12_model.h5: Validation Accuracy = 0.9207921028137207, Test Accuracy = 0.7776392102241516\n"
          ]
        }
      ]
    },
    {
      "cell_type": "markdown",
      "source": [
        "**Test 3**\n",
        "\n",
        "Trial 13-16"
      ],
      "metadata": {
        "id": "0xm3-cf_phA9"
      }
    },
    {
      "cell_type": "code",
      "source": [
        "results3 = []\n",
        "\n",
        "results3.append(train_and_evaluate(1024, 0.5, 0.007, trial_id=13))\n",
        "results3.append(train_and_evaluate(1024, 0.5, 0.07, trial_id=14))\n",
        "results3.append(train_and_evaluate(1024, 0.5, 0.7, trial_id=15))\n",
        "results3.append(train_and_evaluate(1024, 0.5, 0.00007, trial_id=16))\n",
        "\n",
        "for result in results3:\n",
        "    val_accuracy, test_accuracy, model_filename = result\n",
        "    print(f\"Trial model {model_filename}: Validation Accuracy = {val_accuracy}, Test Accuracy = {test_accuracy}\")"
      ],
      "metadata": {
        "id": "g9LWuK0ZCzT0",
        "colab": {
          "base_uri": "https://localhost:8080/"
        },
        "outputId": "33a814f0-d1d9-4989-d1ce-92b0e6d6e9d2"
      },
      "execution_count": null,
      "outputs": [
        {
          "output_type": "stream",
          "name": "stdout",
          "text": [
            "for neurons=1024, dropout=0.5, learning_rate=0.007:\n",
            "Epoch 1/5\n",
            "\u001b[1m87/87\u001b[0m \u001b[32m━━━━━━━━━━━━━━━━━━━━\u001b[0m\u001b[37m\u001b[0m \u001b[1m128s\u001b[0m 1s/step - accuracy: 0.1643 - loss: 54.9001 - val_accuracy: 0.4457 - val_loss: 4.7925\n",
            "Epoch 2/5\n",
            "\u001b[1m 1/87\u001b[0m \u001b[37m━━━━━━━━━━━━━━━━━━━━\u001b[0m \u001b[1m25s\u001b[0m 291ms/step - accuracy: 0.3125 - loss: 4.9816"
          ]
        },
        {
          "output_type": "stream",
          "name": "stderr",
          "text": [
            "/usr/lib/python3.10/contextlib.py:153: UserWarning: Your input ran out of data; interrupting training. Make sure that your dataset or generator can generate at least `steps_per_epoch * epochs` batches. You may need to use the `.repeat()` function when building your dataset.\n",
            "  self.gen.throw(typ, value, traceback)\n"
          ]
        },
        {
          "output_type": "stream",
          "name": "stdout",
          "text": [
            "\b\b\b\b\b\b\b\b\b\b\b\b\b\b\b\b\b\b\b\b\b\b\b\b\b\b\b\b\b\b\b\b\b\b\b\b\b\b\b\b\b\b\b\b\b\b\b\b\b\b\b\b\b\b\b\b\b\b\b\b\b\b\b\b\b\b\b\b\b\b\b\b\b\b\b\r\u001b[1m87/87\u001b[0m \u001b[32m━━━━━━━━━━━━━━━━━━━━\u001b[0m\u001b[37m\u001b[0m \u001b[1m1s\u001b[0m 9ms/step - accuracy: 0.3125 - loss: 4.9816 - val_accuracy: 0.8218 - val_loss: 4.4092\n",
            "Epoch 3/5\n",
            "\u001b[1m87/87\u001b[0m \u001b[32m━━━━━━━━━━━━━━━━━━━━\u001b[0m\u001b[37m\u001b[0m \u001b[1m125s\u001b[0m 1s/step - accuracy: 0.1765 - loss: 5.2793 - val_accuracy: 0.2895 - val_loss: 3.1452\n",
            "Epoch 4/5\n",
            "\u001b[1m87/87\u001b[0m \u001b[32m━━━━━━━━━━━━━━━━━━━━\u001b[0m\u001b[37m\u001b[0m \u001b[1m1s\u001b[0m 4ms/step - accuracy: 0.2422 - loss: 3.0731 - val_accuracy: 0.6535 - val_loss: 2.4120\n",
            "Epoch 5/5\n",
            "\u001b[1m87/87\u001b[0m \u001b[32m━━━━━━━━━━━━━━━━━━━━\u001b[0m\u001b[37m\u001b[0m \u001b[1m125s\u001b[0m 1s/step - accuracy: 0.1687 - loss: 3.2279 - val_accuracy: 0.2374 - val_loss: 3.3536\n",
            "Restoring model weights from the end of the best epoch: 4.\n",
            "Training time: 382.228844165802 seconds\n",
            "Highest Validation Accuracy: 0.8217821717262268\n",
            "\u001b[1m19/19\u001b[0m \u001b[32m━━━━━━━━━━━━━━━━━━━━\u001b[0m\u001b[37m\u001b[0m \u001b[1m6s\u001b[0m 313ms/step - accuracy: 0.3723 - loss: 3.0269\n"
          ]
        },
        {
          "output_type": "stream",
          "name": "stderr",
          "text": [
            "WARNING:absl:You are saving your model as an HDF5 file via `model.save()` or `keras.saving.save_model(model)`. This file format is considered legacy. We recommend using instead the native Keras format, e.g. `model.save('my_model.keras')` or `keras.saving.save_model(model, 'my_model.keras')`. \n"
          ]
        },
        {
          "output_type": "stream",
          "name": "stdout",
          "text": [
            "Test Accuracy: 0.28512054681777954\n",
            "Model for experimental trial 13 saved as Experimental_trial_13_model.h5\n",
            "for neurons=1024, dropout=0.5, learning_rate=0.07:\n",
            "Epoch 1/5\n",
            "\u001b[1m87/87\u001b[0m \u001b[32m━━━━━━━━━━━━━━━━━━━━\u001b[0m\u001b[37m\u001b[0m \u001b[1m128s\u001b[0m 1s/step - accuracy: 0.1082 - loss: 1570.4445 - val_accuracy: 0.1246 - val_loss: 394.6497\n",
            "Epoch 2/5\n",
            "\u001b[1m87/87\u001b[0m \u001b[32m━━━━━━━━━━━━━━━━━━━━\u001b[0m\u001b[37m\u001b[0m \u001b[1m1s\u001b[0m 9ms/step - accuracy: 0.0859 - loss: 394.9807 - val_accuracy: 0.0000e+00 - val_loss: 387.0008\n",
            "Epoch 3/5\n",
            "\u001b[1m87/87\u001b[0m \u001b[32m━━━━━━━━━━━━━━━━━━━━\u001b[0m\u001b[37m\u001b[0m \u001b[1m125s\u001b[0m 1s/step - accuracy: 0.0999 - loss: 317.7382 - val_accuracy: 0.0243 - val_loss: 143.0954\n",
            "Epoch 4/5\n",
            "\u001b[1m87/87\u001b[0m \u001b[32m━━━━━━━━━━━━━━━━━━━━\u001b[0m\u001b[37m\u001b[0m \u001b[1m1s\u001b[0m 3ms/step - accuracy: 0.0000e+00 - loss: 142.9063 - val_accuracy: 0.0000e+00 - val_loss: 144.5469\n",
            "Epoch 5/5\n",
            "\u001b[1m87/87\u001b[0m \u001b[32m━━━━━━━━━━━━━━━━━━━━\u001b[0m\u001b[37m\u001b[0m \u001b[1m125s\u001b[0m 1s/step - accuracy: 0.1042 - loss: 142.4918 - val_accuracy: 0.1246 - val_loss: 37.7796\n",
            "Restoring model weights from the end of the best epoch: 5.\n",
            "Training time: 382.0255012512207 seconds\n",
            "Highest Validation Accuracy: 0.1245659738779068\n",
            "\u001b[1m19/19\u001b[0m \u001b[32m━━━━━━━━━━━━━━━━━━━━\u001b[0m\u001b[37m\u001b[0m \u001b[1m6s\u001b[0m 312ms/step - accuracy: 0.1652 - loss: 37.7814\n"
          ]
        },
        {
          "output_type": "stream",
          "name": "stderr",
          "text": [
            "WARNING:absl:You are saving your model as an HDF5 file via `model.save()` or `keras.saving.save_model(model)`. This file format is considered legacy. We recommend using instead the native Keras format, e.g. `model.save('my_model.keras')` or `keras.saving.save_model(model, 'my_model.keras')`. \n"
          ]
        },
        {
          "output_type": "stream",
          "name": "stdout",
          "text": [
            "Test Accuracy: 0.11928512156009674\n",
            "Model for experimental trial 14 saved as Experimental_trial_14_model.h5\n",
            "for neurons=1024, dropout=0.5, learning_rate=0.7:\n",
            "Epoch 1/5\n",
            "\u001b[1m87/87\u001b[0m \u001b[32m━━━━━━━━━━━━━━━━━━━━\u001b[0m\u001b[37m\u001b[0m \u001b[1m127s\u001b[0m 1s/step - accuracy: 0.0975 - loss: 149278.0156 - val_accuracy: 0.0655 - val_loss: 18901.5859\n",
            "Epoch 2/5\n",
            "\u001b[1m87/87\u001b[0m \u001b[32m━━━━━━━━━━━━━━━━━━━━\u001b[0m\u001b[37m\u001b[0m \u001b[1m1s\u001b[0m 8ms/step - accuracy: 0.1094 - loss: 18901.4375 - val_accuracy: 0.0000e+00 - val_loss: 19003.1328\n",
            "Epoch 3/5\n",
            "\u001b[1m87/87\u001b[0m \u001b[32m━━━━━━━━━━━━━━━━━━━━\u001b[0m\u001b[37m\u001b[0m \u001b[1m125s\u001b[0m 1s/step - accuracy: 0.1104 - loss: 23323.6816 - val_accuracy: 0.0243 - val_loss: 5230.9409\n",
            "Epoch 4/5\n",
            "\u001b[1m87/87\u001b[0m \u001b[32m━━━━━━━━━━━━━━━━━━━━\u001b[0m\u001b[37m\u001b[0m \u001b[1m1s\u001b[0m 4ms/step - accuracy: 0.0391 - loss: 5231.1743 - val_accuracy: 0.0000e+00 - val_loss: 5031.2949\n",
            "Epoch 5/5\n",
            "\u001b[1m87/87\u001b[0m \u001b[32m━━━━━━━━━━━━━━━━━━━━\u001b[0m\u001b[37m\u001b[0m \u001b[1m125s\u001b[0m 1s/step - accuracy: 0.0846 - loss: 4251.3960 - val_accuracy: 0.1402 - val_loss: 5235.1318\n",
            "Restoring model weights from the end of the best epoch: 4.\n",
            "Training time: 380.8805606365204 seconds\n",
            "Highest Validation Accuracy: 0.1401909738779068\n",
            "\u001b[1m19/19\u001b[0m \u001b[32m━━━━━━━━━━━━━━━━━━━━\u001b[0m\u001b[37m\u001b[0m \u001b[1m6s\u001b[0m 312ms/step - accuracy: 0.1262 - loss: 5031.8784\n"
          ]
        },
        {
          "output_type": "stream",
          "name": "stderr",
          "text": [
            "WARNING:absl:You are saving your model as an HDF5 file via `model.save()` or `keras.saving.save_model(model)`. This file format is considered legacy. We recommend using instead the native Keras format, e.g. `model.save('my_model.keras')` or `keras.saving.save_model(model, 'my_model.keras')`. \n"
          ]
        },
        {
          "output_type": "stream",
          "name": "stdout",
          "text": [
            "Test Accuracy: 0.06566916406154633\n",
            "Model for experimental trial 15 saved as Experimental_trial_15_model.h5\n",
            "for neurons=1024, dropout=0.5, learning_rate=7e-05:\n",
            "Epoch 1/5\n",
            "\u001b[1m87/87\u001b[0m \u001b[32m━━━━━━━━━━━━━━━━━━━━\u001b[0m\u001b[37m\u001b[0m \u001b[1m127s\u001b[0m 1s/step - accuracy: 0.3349 - loss: 18.4961 - val_accuracy: 0.7361 - val_loss: 10.2214\n",
            "Epoch 2/5\n",
            "\u001b[1m87/87\u001b[0m \u001b[32m━━━━━━━━━━━━━━━━━━━━\u001b[0m\u001b[37m\u001b[0m \u001b[1m1s\u001b[0m 9ms/step - accuracy: 0.6641 - loss: 10.5242 - val_accuracy: 0.7327 - val_loss: 10.1760\n",
            "Epoch 3/5\n",
            "\u001b[1m87/87\u001b[0m \u001b[32m━━━━━━━━━━━━━━━━━━━━\u001b[0m\u001b[37m\u001b[0m \u001b[1m125s\u001b[0m 1s/step - accuracy: 0.6530 - loss: 9.1298 - val_accuracy: 0.7908 - val_loss: 5.9817\n",
            "Epoch 4/5\n",
            "\u001b[1m87/87\u001b[0m \u001b[32m━━━━━━━━━━━━━━━━━━━━\u001b[0m\u001b[37m\u001b[0m \u001b[1m1s\u001b[0m 4ms/step - accuracy: 0.7109 - loss: 6.2355 - val_accuracy: 0.9010 - val_loss: 5.6641\n",
            "Epoch 5/5\n",
            "\u001b[1m87/87\u001b[0m \u001b[32m━━━━━━━━━━━━━━━━━━━━\u001b[0m\u001b[37m\u001b[0m \u001b[1m125s\u001b[0m 1s/step - accuracy: 0.7235 - loss: 5.6402 - val_accuracy: 0.8134 - val_loss: 4.2408\n",
            "Restoring model weights from the end of the best epoch: 5.\n",
            "Training time: 381.1906566619873 seconds\n",
            "Highest Validation Accuracy: 0.9009901285171509\n",
            "\u001b[1m19/19\u001b[0m \u001b[32m━━━━━━━━━━━━━━━━━━━━\u001b[0m\u001b[37m\u001b[0m \u001b[1m6s\u001b[0m 312ms/step - accuracy: 0.8165 - loss: 4.2631\n"
          ]
        },
        {
          "output_type": "stream",
          "name": "stderr",
          "text": [
            "WARNING:absl:You are saving your model as an HDF5 file via `model.save()` or `keras.saving.save_model(model)`. This file format is considered legacy. We recommend using instead the native Keras format, e.g. `model.save('my_model.keras')` or `keras.saving.save_model(model, 'my_model.keras')`. \n"
          ]
        },
        {
          "output_type": "stream",
          "name": "stdout",
          "text": [
            "Test Accuracy: 0.8287614583969116\n",
            "Model for experimental trial 16 saved as Experimental_trial_16_model.h5\n",
            "Trial model Experimental_trial_13_model.h5: Validation Accuracy = 0.8217821717262268, Test Accuracy = 0.28512054681777954\n",
            "Trial model Experimental_trial_14_model.h5: Validation Accuracy = 0.1245659738779068, Test Accuracy = 0.11928512156009674\n",
            "Trial model Experimental_trial_15_model.h5: Validation Accuracy = 0.1401909738779068, Test Accuracy = 0.06566916406154633\n",
            "Trial model Experimental_trial_16_model.h5: Validation Accuracy = 0.9009901285171509, Test Accuracy = 0.8287614583969116\n"
          ]
        }
      ]
    },
    {
      "cell_type": "markdown",
      "source": [
        "**Test 4**\n",
        "\n",
        "Trial 17 & 20"
      ],
      "metadata": {
        "id": "HZX8Z205pm1V"
      }
    },
    {
      "cell_type": "code",
      "source": [
        "results4 = []\n",
        "\n",
        "results4.append(train_and_evaluate(1024, 0.25, 0.007, trial_id=17))\n",
        "results4.append(train_and_evaluate(1024, 0.25, 0.07, trial_id=18))\n",
        "results4.append(train_and_evaluate(1024, 0.25, 0.7, trial_id=19))\n",
        "results4.append(train_and_evaluate(1024, 0.25, 0.00007, trial_id=20))\n",
        "\n",
        "\n",
        "for result in results4:\n",
        "    val_accuracy, test_accuracy, model_filename = result\n",
        "    print(f\"Trial model {model_filename}: Validation Accuracy = {val_accuracy}, Test Accuracy = {test_accuracy}\")"
      ],
      "metadata": {
        "colab": {
          "base_uri": "https://localhost:8080/"
        },
        "id": "h42w8Egso1Ua",
        "outputId": "03ba99ea-5554-4ea5-88fb-0edbf4110496"
      },
      "execution_count": null,
      "outputs": [
        {
          "output_type": "stream",
          "name": "stdout",
          "text": [
            "for neurons=1024, dropout=0.25, learning_rate=0.007:\n",
            "Epoch 1/5\n",
            "\u001b[1m87/87\u001b[0m \u001b[32m━━━━━━━━━━━━━━━━━━━━\u001b[0m\u001b[37m\u001b[0m \u001b[1m127s\u001b[0m 1s/step - accuracy: 0.2277 - loss: 53.5488 - val_accuracy: 0.4818 - val_loss: 5.3166\n",
            "Epoch 2/5\n",
            "\u001b[1m87/87\u001b[0m \u001b[32m━━━━━━━━━━━━━━━━━━━━\u001b[0m\u001b[37m\u001b[0m \u001b[1m1s\u001b[0m 8ms/step - accuracy: 0.3750 - loss: 5.8021 - val_accuracy: 0.1683 - val_loss: 5.7618\n",
            "Epoch 3/5\n",
            "\u001b[1m87/87\u001b[0m \u001b[32m━━━━━━━━━━━━━━━━━━━━\u001b[0m\u001b[37m\u001b[0m \u001b[1m125s\u001b[0m 1s/step - accuracy: 0.2900 - loss: 5.4750 - val_accuracy: 0.2270 - val_loss: 3.7539\n",
            "Epoch 4/5\n",
            "\u001b[1m87/87\u001b[0m \u001b[32m━━━━━━━━━━━━━━━━━━━━\u001b[0m\u001b[37m\u001b[0m \u001b[1m1s\u001b[0m 4ms/step - accuracy: 0.2422 - loss: 3.8230 - val_accuracy: 0.9406 - val_loss: 2.4279\n",
            "Epoch 5/5\n",
            "\u001b[1m87/87\u001b[0m \u001b[32m━━━━━━━━━━━━━━━━━━━━\u001b[0m\u001b[37m\u001b[0m \u001b[1m125s\u001b[0m 1s/step - accuracy: 0.3881 - loss: 3.0962 - val_accuracy: 0.4622 - val_loss: 2.2266\n",
            "Restoring model weights from the end of the best epoch: 5.\n",
            "Training time: 380.8976819515228 seconds\n",
            "Highest Validation Accuracy: 0.9405940771102905\n",
            "\u001b[1m19/19\u001b[0m \u001b[32m━━━━━━━━━━━━━━━━━━━━\u001b[0m\u001b[37m\u001b[0m \u001b[1m6s\u001b[0m 311ms/step - accuracy: 0.4397 - loss: 2.2671\n"
          ]
        },
        {
          "output_type": "stream",
          "name": "stderr",
          "text": [
            "WARNING:absl:You are saving your model as an HDF5 file via `model.save()` or `keras.saving.save_model(model)`. This file format is considered legacy. We recommend using instead the native Keras format, e.g. `model.save('my_model.keras')` or `keras.saving.save_model(model, 'my_model.keras')`. \n"
          ]
        },
        {
          "output_type": "stream",
          "name": "stdout",
          "text": [
            "Test Accuracy: 0.46384039521217346\n",
            "Model for experimental trial 17 saved as Experimental_trial_17_model.h5\n",
            "for neurons=1024, dropout=0.25, learning_rate=0.07:\n",
            "Epoch 1/5\n",
            "\u001b[1m87/87\u001b[0m \u001b[32m━━━━━━━━━━━━━━━━━━━━\u001b[0m\u001b[37m\u001b[0m \u001b[1m127s\u001b[0m 1s/step - accuracy: 0.1281 - loss: 1808.4634 - val_accuracy: 0.1385 - val_loss: 380.4477\n",
            "Epoch 2/5\n",
            "\u001b[1m87/87\u001b[0m \u001b[32m━━━━━━━━━━━━━━━━━━━━\u001b[0m\u001b[37m\u001b[0m \u001b[1m1s\u001b[0m 9ms/step - accuracy: 0.1250 - loss: 398.0475 - val_accuracy: 0.0000e+00 - val_loss: 267.9659\n",
            "Epoch 3/5\n",
            "\u001b[1m87/87\u001b[0m \u001b[32m━━━━━━━━━━━━━━━━━━━━\u001b[0m\u001b[37m\u001b[0m \u001b[1m125s\u001b[0m 1s/step - accuracy: 0.0831 - loss: 282.1883 - val_accuracy: 0.2092 - val_loss: 131.2555\n",
            "Epoch 4/5\n",
            "\u001b[1m87/87\u001b[0m \u001b[32m━━━━━━━━━━━━━━━━━━━━\u001b[0m\u001b[37m\u001b[0m \u001b[1m1s\u001b[0m 4ms/step - accuracy: 0.2188 - loss: 131.0828 - val_accuracy: 0.0000e+00 - val_loss: 127.8939\n",
            "Epoch 5/5\n",
            "\u001b[1m87/87\u001b[0m \u001b[32m━━━━━━━━━━━━━━━━━━━━\u001b[0m\u001b[37m\u001b[0m \u001b[1m125s\u001b[0m 1s/step - accuracy: 0.1639 - loss: 108.9008 - val_accuracy: 0.1246 - val_loss: 55.3186\n",
            "Restoring model weights from the end of the best epoch: 5.\n",
            "Training time: 381.18009305000305 seconds\n",
            "Highest Validation Accuracy: 0.2092013955116272\n",
            "\u001b[1m19/19\u001b[0m \u001b[32m━━━━━━━━━━━━━━━━━━━━\u001b[0m\u001b[37m\u001b[0m \u001b[1m6s\u001b[0m 309ms/step - accuracy: 0.1652 - loss: 58.5868\n"
          ]
        },
        {
          "output_type": "stream",
          "name": "stderr",
          "text": [
            "WARNING:absl:You are saving your model as an HDF5 file via `model.save()` or `keras.saving.save_model(model)`. This file format is considered legacy. We recommend using instead the native Keras format, e.g. `model.save('my_model.keras')` or `keras.saving.save_model(model, 'my_model.keras')`. \n"
          ]
        },
        {
          "output_type": "stream",
          "name": "stdout",
          "text": [
            "Test Accuracy: 0.11928512156009674\n",
            "Model for experimental trial 18 saved as Experimental_trial_18_model.h5\n",
            "for neurons=1024, dropout=0.25, learning_rate=0.7:\n",
            "Epoch 1/5\n",
            "\u001b[1m87/87\u001b[0m \u001b[32m━━━━━━━━━━━━━━━━━━━━\u001b[0m\u001b[37m\u001b[0m \u001b[1m127s\u001b[0m 1s/step - accuracy: 0.1015 - loss: 149275.6875 - val_accuracy: 0.0677 - val_loss: 21943.3750\n",
            "Epoch 2/5\n",
            "\u001b[1m87/87\u001b[0m \u001b[32m━━━━━━━━━━━━━━━━━━━━\u001b[0m\u001b[37m\u001b[0m \u001b[1m1s\u001b[0m 8ms/step - accuracy: 0.1484 - loss: 21964.9277 - val_accuracy: 0.0000e+00 - val_loss: 22432.8320\n",
            "Epoch 3/5\n",
            "\u001b[1m87/87\u001b[0m \u001b[32m━━━━━━━━━━━━━━━━━━━━\u001b[0m\u001b[37m\u001b[0m \u001b[1m125s\u001b[0m 1s/step - accuracy: 0.1136 - loss: 23982.6406 - val_accuracy: 0.1306 - val_loss: 10276.5352\n",
            "Epoch 4/5\n",
            "\u001b[1m87/87\u001b[0m \u001b[32m━━━━━━━━━━━━━━━━━━━━\u001b[0m\u001b[37m\u001b[0m \u001b[1m1s\u001b[0m 4ms/step - accuracy: 0.1172 - loss: 10276.6846 - val_accuracy: 0.0000e+00 - val_loss: 9749.4990\n",
            "Epoch 5/5\n",
            "\u001b[1m87/87\u001b[0m \u001b[32m━━━━━━━━━━━━━━━━━━━━\u001b[0m\u001b[37m\u001b[0m \u001b[1m124s\u001b[0m 1s/step - accuracy: 0.0878 - loss: 5386.6929 - val_accuracy: 0.0243 - val_loss: 1432.5554\n",
            "Restoring model weights from the end of the best epoch: 5.\n",
            "Training time: 381.12884044647217 seconds\n",
            "Highest Validation Accuracy: 0.1306423544883728\n",
            "\u001b[1m19/19\u001b[0m \u001b[32m━━━━━━━━━━━━━━━━━━━━\u001b[0m\u001b[37m\u001b[0m \u001b[1m6s\u001b[0m 310ms/step - accuracy: 0.0048 - loss: 1432.5597\n"
          ]
        },
        {
          "output_type": "stream",
          "name": "stderr",
          "text": [
            "WARNING:absl:You are saving your model as an HDF5 file via `model.save()` or `keras.saving.save_model(model)`. This file format is considered legacy. We recommend using instead the native Keras format, e.g. `model.save('my_model.keras')` or `keras.saving.save_model(model, 'my_model.keras')`. \n"
          ]
        },
        {
          "output_type": "stream",
          "name": "stdout",
          "text": [
            "Test Accuracy: 0.023275146260857582\n",
            "Model for experimental trial 19 saved as Experimental_trial_19_model.h5\n",
            "for neurons=1024, dropout=0.25, learning_rate=7e-05:\n",
            "Epoch 1/5\n",
            "\u001b[1m87/87\u001b[0m \u001b[32m━━━━━━━━━━━━━━━━━━━━\u001b[0m\u001b[37m\u001b[0m \u001b[1m127s\u001b[0m 1s/step - accuracy: 0.3844 - loss: 18.2593 - val_accuracy: 0.7574 - val_loss: 9.9903\n",
            "Epoch 2/5\n",
            "\u001b[1m87/87\u001b[0m \u001b[32m━━━━━━━━━━━━━━━━━━━━\u001b[0m\u001b[37m\u001b[0m \u001b[1m1s\u001b[0m 9ms/step - accuracy: 0.7500 - loss: 10.0166 - val_accuracy: 0.7723 - val_loss: 9.9056\n",
            "Epoch 3/5\n",
            "\u001b[1m87/87\u001b[0m \u001b[32m━━━━━━━━━━━━━━━━━━━━\u001b[0m\u001b[37m\u001b[0m \u001b[1m124s\u001b[0m 1s/step - accuracy: 0.7057 - loss: 8.7930 - val_accuracy: 0.8138 - val_loss: 5.7336\n",
            "Epoch 4/5\n",
            "\u001b[1m87/87\u001b[0m \u001b[32m━━━━━━━━━━━━━━━━━━━━\u001b[0m\u001b[37m\u001b[0m \u001b[1m1s\u001b[0m 4ms/step - accuracy: 0.7656 - loss: 5.7932 - val_accuracy: 0.9010 - val_loss: 5.4853\n",
            "Epoch 5/5\n",
            "\u001b[1m87/87\u001b[0m \u001b[32m━━━━━━━━━━━━━━━━━━━━\u001b[0m\u001b[37m\u001b[0m \u001b[1m125s\u001b[0m 1s/step - accuracy: 0.7749 - loss: 5.3400 - val_accuracy: 0.8103 - val_loss: 4.0674\n",
            "Restoring model weights from the end of the best epoch: 5.\n",
            "Training time: 380.76172065734863 seconds\n",
            "Highest Validation Accuracy: 0.9009901285171509\n",
            "\u001b[1m19/19\u001b[0m \u001b[32m━━━━━━━━━━━━━━━━━━━━\u001b[0m\u001b[37m\u001b[0m \u001b[1m6s\u001b[0m 310ms/step - accuracy: 0.8163 - loss: 4.0252\n"
          ]
        },
        {
          "output_type": "stream",
          "name": "stderr",
          "text": [
            "WARNING:absl:You are saving your model as an HDF5 file via `model.save()` or `keras.saving.save_model(model)`. This file format is considered legacy. We recommend using instead the native Keras format, e.g. `model.save('my_model.keras')` or `keras.saving.save_model(model, 'my_model.keras')`. \n"
          ]
        },
        {
          "output_type": "stream",
          "name": "stdout",
          "text": [
            "Test Accuracy: 0.8104737997055054\n",
            "Model for experimental trial 20 saved as Experimental_trial_20_model.h5\n",
            "Trial model Experimental_trial_17_model.h5: Validation Accuracy = 0.9405940771102905, Test Accuracy = 0.46384039521217346\n",
            "Trial model Experimental_trial_18_model.h5: Validation Accuracy = 0.2092013955116272, Test Accuracy = 0.11928512156009674\n",
            "Trial model Experimental_trial_19_model.h5: Validation Accuracy = 0.1306423544883728, Test Accuracy = 0.023275146260857582\n",
            "Trial model Experimental_trial_20_model.h5: Validation Accuracy = 0.9009901285171509, Test Accuracy = 0.8104737997055054\n"
          ]
        }
      ]
    },
    {
      "cell_type": "markdown",
      "source": [
        "**Test 5**\n",
        "\n",
        "Trial 21-24"
      ],
      "metadata": {
        "id": "LvjzRIC8ttFq"
      }
    },
    {
      "cell_type": "code",
      "source": [
        "results5 = []\n",
        "\n",
        "results5.append(train_and_evaluate(2048, 0.5, 0.00007, trial_id=21))\n",
        "results5.append(train_and_evaluate(2048, 0.25, 0.00007, trial_id=22))\n",
        "results5.append(train_and_evaluate(2048, 0.5, 0.0007, trial_id=23))\n",
        "results5.append(train_and_evaluate(2048, 0.25, 0.0007, trial_id=24))\n",
        "\n",
        "\n",
        "for result in results5:\n",
        "    val_accuracy, test_accuracy, model_filename = result\n",
        "    print(f\"Trial model {model_filename}: Validation Accuracy = {val_accuracy}, Test Accuracy = {test_accuracy}\")"
      ],
      "metadata": {
        "colab": {
          "base_uri": "https://localhost:8080/"
        },
        "id": "MGvDK09-tCZH",
        "outputId": "179f722c-022e-4bdc-871a-5f5835b8a871"
      },
      "execution_count": null,
      "outputs": [
        {
          "output_type": "stream",
          "name": "stdout",
          "text": [
            "for neurons=2048, dropout=0.5, learning_rate=7e-05:\n",
            "Epoch 1/5\n",
            "\u001b[1m87/87\u001b[0m \u001b[32m━━━━━━━━━━━━━━━━━━━━\u001b[0m\u001b[37m\u001b[0m \u001b[1m129s\u001b[0m 1s/step - accuracy: 0.3644 - loss: 33.2428 - val_accuracy: 0.7422 - val_loss: 17.6500\n",
            "Epoch 2/5\n",
            "\u001b[1m87/87\u001b[0m \u001b[32m━━━━━━━━━━━━━━━━━━━━\u001b[0m\u001b[37m\u001b[0m \u001b[1m3s\u001b[0m 28ms/step - accuracy: 0.6328 - loss: 18.0015 - val_accuracy: 0.7129 - val_loss: 17.5319\n",
            "Epoch 3/5\n",
            "\u001b[1m87/87\u001b[0m \u001b[32m━━━━━━━━━━━━━━━━━━━━\u001b[0m\u001b[37m\u001b[0m \u001b[1m125s\u001b[0m 1s/step - accuracy: 0.6781 - loss: 15.2045 - val_accuracy: 0.7960 - val_loss: 9.4362\n",
            "Epoch 4/5\n",
            "\u001b[1m87/87\u001b[0m \u001b[32m━━━━━━━━━━━━━━━━━━━━\u001b[0m\u001b[37m\u001b[0m \u001b[1m1s\u001b[0m 4ms/step - accuracy: 0.6875 - loss: 9.7809 - val_accuracy: 0.8416 - val_loss: 9.2736\n",
            "Epoch 5/5\n",
            "\u001b[1m87/87\u001b[0m \u001b[32m━━━━━━━━━━━━━━━━━━━━\u001b[0m\u001b[37m\u001b[0m \u001b[1m124s\u001b[0m 1s/step - accuracy: 0.7471 - loss: 8.5976 - val_accuracy: 0.8433 - val_loss: 6.1975\n",
            "Restoring model weights from the end of the best epoch: 5.\n",
            "Training time: 384.7934308052063 seconds\n",
            "Highest Validation Accuracy: 0.8433159589767456\n",
            "\u001b[1m19/19\u001b[0m \u001b[32m━━━━━━━━━━━━━━━━━━━━\u001b[0m\u001b[37m\u001b[0m \u001b[1m8s\u001b[0m 398ms/step - accuracy: 0.8299 - loss: 6.2093\n"
          ]
        },
        {
          "output_type": "stream",
          "name": "stderr",
          "text": [
            "WARNING:absl:You are saving your model as an HDF5 file via `model.save()` or `keras.saving.save_model(model)`. This file format is considered legacy. We recommend using instead the native Keras format, e.g. `model.save('my_model.keras')` or `keras.saving.save_model(model, 'my_model.keras')`. \n"
          ]
        },
        {
          "output_type": "stream",
          "name": "stdout",
          "text": [
            "Test Accuracy: 0.8370739817619324\n",
            "Model for experimental trial 21 saved as Experimental_trial_21_model.h5\n",
            "for neurons=2048, dropout=0.25, learning_rate=7e-05:\n",
            "Epoch 1/5\n",
            "\u001b[1m87/87\u001b[0m \u001b[32m━━━━━━━━━━━━━━━━━━━━\u001b[0m\u001b[37m\u001b[0m \u001b[1m128s\u001b[0m 1s/step - accuracy: 0.4205 - loss: 32.8361 - val_accuracy: 0.7756 - val_loss: 16.9981\n",
            "Epoch 2/5\n",
            "\u001b[1m87/87\u001b[0m \u001b[32m━━━━━━━━━━━━━━━━━━━━\u001b[0m\u001b[37m\u001b[0m \u001b[1m1s\u001b[0m 10ms/step - accuracy: 0.6797 - loss: 17.3253 - val_accuracy: 0.8515 - val_loss: 16.6348\n",
            "Epoch 3/5\n",
            "\u001b[1m87/87\u001b[0m \u001b[32m━━━━━━━━━━━━━━━━━━━━\u001b[0m\u001b[37m\u001b[0m \u001b[1m125s\u001b[0m 1s/step - accuracy: 0.7153 - loss: 14.4663 - val_accuracy: 0.8021 - val_loss: 8.8463\n",
            "Epoch 4/5\n",
            "\u001b[1m87/87\u001b[0m \u001b[32m━━━━━━━━━━━━━━━━━━━━\u001b[0m\u001b[37m\u001b[0m \u001b[1m1s\u001b[0m 4ms/step - accuracy: 0.7422 - loss: 8.9448 - val_accuracy: 0.7426 - val_loss: 8.7920\n",
            "Epoch 5/5\n",
            "\u001b[1m87/87\u001b[0m \u001b[32m━━━━━━━━━━━━━━━━━━━━\u001b[0m\u001b[37m\u001b[0m \u001b[1m125s\u001b[0m 1s/step - accuracy: 0.7859 - loss: 7.9345 - val_accuracy: 0.8372 - val_loss: 5.7103\n",
            "Restoring model weights from the end of the best epoch: 5.\n",
            "Training time: 382.0698902606964 seconds\n",
            "Highest Validation Accuracy: 0.8514851331710815\n",
            "\u001b[1m19/19\u001b[0m \u001b[32m━━━━━━━━━━━━━━━━━━━━\u001b[0m\u001b[37m\u001b[0m \u001b[1m6s\u001b[0m 310ms/step - accuracy: 0.8066 - loss: 5.7680\n"
          ]
        },
        {
          "output_type": "stream",
          "name": "stderr",
          "text": [
            "WARNING:absl:You are saving your model as an HDF5 file via `model.save()` or `keras.saving.save_model(model)`. This file format is considered legacy. We recommend using instead the native Keras format, e.g. `model.save('my_model.keras')` or `keras.saving.save_model(model, 'my_model.keras')`. \n"
          ]
        },
        {
          "output_type": "stream",
          "name": "stdout",
          "text": [
            "Test Accuracy: 0.832086443901062\n",
            "Model for experimental trial 22 saved as Experimental_trial_22_model.h5\n",
            "for neurons=2048, dropout=0.5, learning_rate=0.0007:\n",
            "Epoch 1/5\n",
            "\u001b[1m87/87\u001b[0m \u001b[32m━━━━━━━━━━━━━━━━━━━━\u001b[0m\u001b[37m\u001b[0m \u001b[1m127s\u001b[0m 1s/step - accuracy: 0.3242 - loss: 19.1750 - val_accuracy: 0.7409 - val_loss: 2.7842\n",
            "Epoch 2/5\n",
            "\u001b[1m87/87\u001b[0m \u001b[32m━━━━━━━━━━━━━━━━━━━━\u001b[0m\u001b[37m\u001b[0m \u001b[1m1s\u001b[0m 8ms/step - accuracy: 0.6328 - loss: 3.0278 - val_accuracy: 0.6931 - val_loss: 2.8169\n",
            "Epoch 3/5\n",
            "\u001b[1m87/87\u001b[0m \u001b[32m━━━━━━━━━━━━━━━━━━━━\u001b[0m\u001b[37m\u001b[0m \u001b[1m125s\u001b[0m 1s/step - accuracy: 0.6503 - loss: 2.6609 - val_accuracy: 0.8025 - val_loss: 1.6402\n",
            "Epoch 4/5\n",
            "\u001b[1m87/87\u001b[0m \u001b[32m━━━━━━━━━━━━━━━━━━━━\u001b[0m\u001b[37m\u001b[0m \u001b[1m1s\u001b[0m 3ms/step - accuracy: 0.7500 - loss: 1.8661 - val_accuracy: 0.6733 - val_loss: 1.6826\n",
            "Epoch 5/5\n",
            "\u001b[1m87/87\u001b[0m \u001b[32m━━━━━━━━━━━━━━━━━━━━\u001b[0m\u001b[37m\u001b[0m \u001b[1m125s\u001b[0m 1s/step - accuracy: 0.6550 - loss: 1.8723 - val_accuracy: 0.7947 - val_loss: 1.3457\n",
            "Restoring model weights from the end of the best epoch: 5.\n",
            "Training time: 381.16445326805115 seconds\n",
            "Highest Validation Accuracy: 0.8025173544883728\n",
            "\u001b[1m19/19\u001b[0m \u001b[32m━━━━━━━━━━━━━━━━━━━━\u001b[0m\u001b[37m\u001b[0m \u001b[1m6s\u001b[0m 311ms/step - accuracy: 0.7789 - loss: 1.3806\n"
          ]
        },
        {
          "output_type": "stream",
          "name": "stderr",
          "text": [
            "WARNING:absl:You are saving your model as an HDF5 file via `model.save()` or `keras.saving.save_model(model)`. This file format is considered legacy. We recommend using instead the native Keras format, e.g. `model.save('my_model.keras')` or `keras.saving.save_model(model, 'my_model.keras')`. \n"
          ]
        },
        {
          "output_type": "stream",
          "name": "stdout",
          "text": [
            "Test Accuracy: 0.7880299091339111\n",
            "Model for experimental trial 23 saved as Experimental_trial_23_model.h5\n",
            "for neurons=2048, dropout=0.25, learning_rate=0.0007:\n",
            "Epoch 1/5\n",
            "\u001b[1m87/87\u001b[0m \u001b[32m━━━━━━━━━━━━━━━━━━━━\u001b[0m\u001b[37m\u001b[0m \u001b[1m128s\u001b[0m 1s/step - accuracy: 0.3158 - loss: 21.1832 - val_accuracy: 0.7574 - val_loss: 3.1402\n",
            "Epoch 2/5\n",
            "\u001b[1m87/87\u001b[0m \u001b[32m━━━━━━━━━━━━━━━━━━━━\u001b[0m\u001b[37m\u001b[0m \u001b[1m1s\u001b[0m 10ms/step - accuracy: 0.6797 - loss: 3.2422 - val_accuracy: 0.7921 - val_loss: 2.9771\n",
            "Epoch 3/5\n",
            "\u001b[1m87/87\u001b[0m \u001b[32m━━━━━━━━━━━━━━━━━━━━\u001b[0m\u001b[37m\u001b[0m \u001b[1m125s\u001b[0m 1s/step - accuracy: 0.6967 - loss: 2.8335 - val_accuracy: 0.7808 - val_loss: 1.7448\n",
            "Epoch 4/5\n",
            "\u001b[1m87/87\u001b[0m \u001b[32m━━━━━━━━━━━━━━━━━━━━\u001b[0m\u001b[37m\u001b[0m \u001b[1m1s\u001b[0m 4ms/step - accuracy: 0.7188 - loss: 2.0824 - val_accuracy: 0.7921 - val_loss: 1.7372\n",
            "Epoch 5/5\n",
            "\u001b[1m87/87\u001b[0m \u001b[32m━━━━━━━━━━━━━━━━━━━━\u001b[0m\u001b[37m\u001b[0m \u001b[1m125s\u001b[0m 1s/step - accuracy: 0.7145 - loss: 1.8011 - val_accuracy: 0.7834 - val_loss: 1.3697\n",
            "Restoring model weights from the end of the best epoch: 5.\n",
            "Training time: 382.13445258140564 seconds\n",
            "Highest Validation Accuracy: 0.7920792102813721\n",
            "\u001b[1m19/19\u001b[0m \u001b[32m━━━━━━━━━━━━━━━━━━━━\u001b[0m\u001b[37m\u001b[0m \u001b[1m6s\u001b[0m 310ms/step - accuracy: 0.7154 - loss: 1.5746\n"
          ]
        },
        {
          "output_type": "stream",
          "name": "stderr",
          "text": [
            "WARNING:absl:You are saving your model as an HDF5 file via `model.save()` or `keras.saving.save_model(model)`. This file format is considered legacy. We recommend using instead the native Keras format, e.g. `model.save('my_model.keras')` or `keras.saving.save_model(model, 'my_model.keras')`. \n"
          ]
        },
        {
          "output_type": "stream",
          "name": "stdout",
          "text": [
            "Test Accuracy: 0.7888611555099487\n",
            "Model for experimental trial 24 saved as Experimental_trial_24_model.h5\n",
            "Trial model Experimental_trial_21_model.h5: Validation Accuracy = 0.8433159589767456, Test Accuracy = 0.8370739817619324\n",
            "Trial model Experimental_trial_22_model.h5: Validation Accuracy = 0.8514851331710815, Test Accuracy = 0.832086443901062\n",
            "Trial model Experimental_trial_23_model.h5: Validation Accuracy = 0.8025173544883728, Test Accuracy = 0.7880299091339111\n",
            "Trial model Experimental_trial_24_model.h5: Validation Accuracy = 0.7920792102813721, Test Accuracy = 0.7888611555099487\n"
          ]
        }
      ]
    },
    {
      "cell_type": "markdown",
      "source": [
        "**Test 6**\n",
        "\n",
        "Trial 25"
      ],
      "metadata": {
        "id": "E7DdWBZStjen"
      }
    },
    {
      "cell_type": "code",
      "source": [
        "results6 = []\n",
        "\n",
        "results6.append(train_and_evaluate(1024, 0, 0.00007, trial_id=25))\n",
        "\n",
        "for result in results6:\n",
        "    val_accuracy, test_accuracy, model_filename = result\n",
        "    print(f\"Trial model {model_filename}: Validation Accuracy = {val_accuracy}, Test Accuracy = {test_accuracy}\")"
      ],
      "metadata": {
        "colab": {
          "base_uri": "https://localhost:8080/"
        },
        "id": "RjnR1_G3CTTL",
        "outputId": "07e31ccb-e34c-4ca8-af9e-1eec5a0ae8c1"
      },
      "execution_count": null,
      "outputs": [
        {
          "output_type": "stream",
          "name": "stdout",
          "text": [
            "for neurons=1024, dropout=0, learning_rate=7e-05:\n",
            "Epoch 1/5\n"
          ]
        },
        {
          "output_type": "stream",
          "name": "stderr",
          "text": [
            "/usr/local/lib/python3.11/dist-packages/keras/src/trainers/data_adapters/py_dataset_adapter.py:122: UserWarning: Your `PyDataset` class should call `super().__init__(**kwargs)` in its constructor. `**kwargs` can include `workers`, `use_multiprocessing`, `max_queue_size`. Do not pass these arguments to `fit()`, as they will be ignored.\n",
            "  self._warn_if_super_not_called()\n"
          ]
        },
        {
          "output_type": "stream",
          "name": "stdout",
          "text": [
            "\u001b[1m87/87\u001b[0m \u001b[32m━━━━━━━━━━━━━━━━━━━━\u001b[0m\u001b[37m\u001b[0m \u001b[1m186s\u001b[0m 2s/step - accuracy: 0.4361 - loss: 18.1119 - val_accuracy: 0.7852 - val_loss: 9.8039\n",
            "Epoch 2/5\n",
            "\u001b[1m 1/87\u001b[0m \u001b[37m━━━━━━━━━━━━━━━━━━━━\u001b[0m \u001b[1m25s\u001b[0m 295ms/step - accuracy: 0.7344 - loss: 9.9768"
          ]
        },
        {
          "output_type": "stream",
          "name": "stderr",
          "text": [
            "/usr/lib/python3.11/contextlib.py:158: UserWarning: Your input ran out of data; interrupting training. Make sure that your dataset or generator can generate at least `steps_per_epoch * epochs` batches. You may need to use the `.repeat()` function when building your dataset.\n",
            "  self.gen.throw(typ, value, traceback)\n"
          ]
        },
        {
          "output_type": "stream",
          "name": "stdout",
          "text": [
            "\b\b\b\b\b\b\b\b\b\b\b\b\b\b\b\b\b\b\b\b\b\b\b\b\b\b\b\b\b\b\b\b\b\b\b\b\b\b\b\b\b\b\b\b\b\b\b\b\b\b\b\b\b\b\b\b\b\b\b\b\b\b\b\b\b\b\b\b\b\b\b\b\b\b\b\r\u001b[1m87/87\u001b[0m \u001b[32m━━━━━━━━━━━━━━━━━━━━\u001b[0m\u001b[37m\u001b[0m \u001b[1m27s\u001b[0m 305ms/step - accuracy: 0.7344 - loss: 9.9768 - val_accuracy: 0.9208 - val_loss: 9.3909\n",
            "Epoch 3/5\n",
            "\u001b[1m87/87\u001b[0m \u001b[32m━━━━━━━━━━━━━━━━━━━━\u001b[0m\u001b[37m\u001b[0m \u001b[1m125s\u001b[0m 1s/step - accuracy: 0.7542 - loss: 8.5206 - val_accuracy: 0.7826 - val_loss: 5.5997\n",
            "Epoch 4/5\n",
            "\u001b[1m87/87\u001b[0m \u001b[32m━━━━━━━━━━━━━━━━━━━━\u001b[0m\u001b[37m\u001b[0m \u001b[1m1s\u001b[0m 4ms/step - accuracy: 0.7109 - loss: 5.7131 - val_accuracy: 0.8317 - val_loss: 5.3007\n",
            "Epoch 5/5\n",
            "\u001b[1m87/87\u001b[0m \u001b[32m━━━━━━━━━━━━━━━━━━━━\u001b[0m\u001b[37m\u001b[0m \u001b[1m125s\u001b[0m 1s/step - accuracy: 0.7911 - loss: 5.0830 - val_accuracy: 0.8260 - val_loss: 3.8556\n",
            "Restoring model weights from the end of the best epoch: 5.\n",
            "Training time: 465.01705050468445 seconds\n",
            "Highest Validation Accuracy: 0.9207921028137207\n",
            "\u001b[1m19/19\u001b[0m \u001b[32m━━━━━━━━━━━━━━━━━━━━\u001b[0m\u001b[37m\u001b[0m \u001b[1m6s\u001b[0m 303ms/step - accuracy: 0.7990 - loss: 3.9251\n"
          ]
        },
        {
          "output_type": "stream",
          "name": "stderr",
          "text": [
            "WARNING:absl:You are saving your model as an HDF5 file via `model.save()` or `keras.saving.save_model(model)`. This file format is considered legacy. We recommend using instead the native Keras format, e.g. `model.save('my_model.keras')` or `keras.saving.save_model(model, 'my_model.keras')`. \n"
          ]
        },
        {
          "output_type": "stream",
          "name": "stdout",
          "text": [
            "Test Accuracy: 0.8182952404022217\n",
            "Model for experimental trial 25 saved as Experimental_trial_25_model.h5\n",
            "Trial model Experimental_trial_25_model.h5: Validation Accuracy = 0.9207921028137207, Test Accuracy = 0.8182952404022217\n"
          ]
        }
      ]
    },
    {
      "cell_type": "markdown",
      "source": [
        "**Experimental function with higher Epoch and NO early stopping**"
      ],
      "metadata": {
        "id": "ix2UDjoOtyj-"
      }
    },
    {
      "cell_type": "code",
      "source": [
        "def train_and_evaluate_improve(neurons, dropout, learning_rate, trial_id=1):\n",
        "\n",
        "    model = custom_model_experiments(neurons, dropout, learning_rate)\n",
        "\n",
        "    print(f\"for neurons={neurons}, dropout={dropout}, learning_rate={learning_rate}:\")\n",
        "\n",
        "    start = time.time()\n",
        "    best_model_history = model.fit(\n",
        "        train_gen,\n",
        "        steps_per_epoch = train_samples // batch_size,\n",
        "        validation_data = val_gen,\n",
        "        epochs = 10,\n",
        "        validation_steps = val_samples // batch_size,\n",
        "        class_weight = class_weights,\n",
        "        verbose=1\n",
        "        )\n",
        "    end = time.time()\n",
        "    print(f\"Training time: {end - start} seconds\")\n",
        "\n",
        "    val_accuracy = max(best_model_history.history['val_accuracy'])  # among 10 epoch\n",
        "    print(f\"Highest Validation Accuracy: {val_accuracy}\")\n",
        "\n",
        "    test_loss, test_accuracy = model.evaluate(test_gen, verbose=1)\n",
        "    print(f\"Test Accuracy: {test_accuracy}\")\n",
        "\n",
        "    model_filename = f'Experimental_trial_{trial_id}_model.h5'\n",
        "    model.save(model_filename)\n",
        "    print(f\"Model for experimental trial {trial_id} saved as {model_filename}\")\n",
        "\n",
        "    return val_accuracy, test_accuracy, model_filename"
      ],
      "metadata": {
        "id": "GlF0EdQFFvP3"
      },
      "execution_count": null,
      "outputs": []
    },
    {
      "cell_type": "markdown",
      "source": [
        "**Test 7**\n",
        "\n",
        "Trial 26"
      ],
      "metadata": {
        "id": "ubPgkCg8tntZ"
      }
    },
    {
      "cell_type": "code",
      "source": [
        "results7 = []\n",
        "\n",
        "results7.append(train_and_evaluate_improve(1024, 0, 0.00007, trial_id=26))"
      ],
      "metadata": {
        "colab": {
          "base_uri": "https://localhost:8080/"
        },
        "id": "vwK7AVevGI9C",
        "outputId": "d6265c86-1af9-40d8-e33f-a4cb4011c1bb"
      },
      "execution_count": null,
      "outputs": [
        {
          "output_type": "stream",
          "name": "stdout",
          "text": [
            "for neurons=1024, dropout=0, learning_rate=7e-05:\n",
            "Epoch 1/10\n",
            "\u001b[1m87/87\u001b[0m \u001b[32m━━━━━━━━━━━━━━━━━━━━\u001b[0m\u001b[37m\u001b[0m \u001b[1m126s\u001b[0m 1s/step - accuracy: 0.4762 - loss: 18.0180 - val_accuracy: 0.7882 - val_loss: 9.8459\n",
            "Epoch 2/10\n",
            "\u001b[1m 1/87\u001b[0m \u001b[37m━━━━━━━━━━━━━━━━━━━━\u001b[0m \u001b[1m25s\u001b[0m 302ms/step - accuracy: 0.7578 - loss: 10.0625"
          ]
        },
        {
          "output_type": "stream",
          "name": "stderr",
          "text": [
            "/usr/lib/python3.11/contextlib.py:158: UserWarning: Your input ran out of data; interrupting training. Make sure that your dataset or generator can generate at least `steps_per_epoch * epochs` batches. You may need to use the `.repeat()` function when building your dataset.\n",
            "  self.gen.throw(typ, value, traceback)\n"
          ]
        },
        {
          "output_type": "stream",
          "name": "stdout",
          "text": [
            "\b\b\b\b\b\b\b\b\b\b\b\b\b\b\b\b\b\b\b\b\b\b\b\b\b\b\b\b\b\b\b\b\b\b\b\b\b\b\b\b\b\b\b\b\b\b\b\b\b\b\b\b\b\b\b\b\b\b\b\b\b\b\b\b\b\b\b\b\b\b\b\b\b\b\b\b\r\u001b[1m87/87\u001b[0m \u001b[32m━━━━━━━━━━━━━━━━━━━━\u001b[0m\u001b[37m\u001b[0m \u001b[1m1s\u001b[0m 8ms/step - accuracy: 0.7578 - loss: 10.0625 - val_accuracy: 0.6832 - val_loss: 9.8849\n",
            "Epoch 3/10\n",
            "\u001b[1m87/87\u001b[0m \u001b[32m━━━━━━━━━━━━━━━━━━━━\u001b[0m\u001b[37m\u001b[0m \u001b[1m124s\u001b[0m 1s/step - accuracy: 0.7581 - loss: 8.5954 - val_accuracy: 0.8286 - val_loss: 5.6333\n",
            "Epoch 4/10\n",
            "\u001b[1m87/87\u001b[0m \u001b[32m━━━━━━━━━━━━━━━━━━━━\u001b[0m\u001b[37m\u001b[0m \u001b[1m1s\u001b[0m 3ms/step - accuracy: 0.8125 - loss: 5.7535 - val_accuracy: 0.8614 - val_loss: 5.4559\n",
            "Epoch 5/10\n",
            "\u001b[1m87/87\u001b[0m \u001b[32m━━━━━━━━━━━━━━━━━━━━\u001b[0m\u001b[37m\u001b[0m \u001b[1m124s\u001b[0m 1s/step - accuracy: 0.8179 - loss: 5.1578 - val_accuracy: 0.8351 - val_loss: 3.9360\n",
            "Epoch 6/10\n",
            "\u001b[1m87/87\u001b[0m \u001b[32m━━━━━━━━━━━━━━━━━━━━\u001b[0m\u001b[37m\u001b[0m \u001b[1m1s\u001b[0m 3ms/step - accuracy: 0.7891 - loss: 4.0745 - val_accuracy: 0.9109 - val_loss: 3.7276\n",
            "Epoch 7/10\n",
            "\u001b[1m87/87\u001b[0m \u001b[32m━━━━━━━━━━━━━━━━━━━━\u001b[0m\u001b[37m\u001b[0m \u001b[1m124s\u001b[0m 1s/step - accuracy: 0.8275 - loss: 3.7479 - val_accuracy: 0.8207 - val_loss: 3.1525\n",
            "Epoch 8/10\n",
            "\u001b[1m87/87\u001b[0m \u001b[32m━━━━━━━━━━━━━━━━━━━━\u001b[0m\u001b[37m\u001b[0m \u001b[1m1s\u001b[0m 3ms/step - accuracy: 0.7734 - loss: 3.2912 - val_accuracy: 0.9109 - val_loss: 2.9572\n",
            "Epoch 9/10\n",
            "\u001b[1m87/87\u001b[0m \u001b[32m━━━━━━━━━━━━━━━━━━━━\u001b[0m\u001b[37m\u001b[0m \u001b[1m124s\u001b[0m 1s/step - accuracy: 0.8389 - loss: 2.9950 - val_accuracy: 0.8377 - val_loss: 2.6281\n",
            "Epoch 10/10\n",
            "\u001b[1m87/87\u001b[0m \u001b[32m━━━━━━━━━━━━━━━━━━━━\u001b[0m\u001b[37m\u001b[0m \u001b[1m1s\u001b[0m 3ms/step - accuracy: 0.8281 - loss: 2.7082 - val_accuracy: 0.9307 - val_loss: 2.3210\n",
            "Training time: 627.7241380214691 seconds\n",
            "Highest Validation Accuracy: 0.9306930899620056\n",
            "\u001b[1m19/19\u001b[0m \u001b[32m━━━━━━━━━━━━━━━━━━━━\u001b[0m\u001b[37m\u001b[0m \u001b[1m6s\u001b[0m 296ms/step - accuracy: 0.8206 - loss: 2.6909\n"
          ]
        },
        {
          "output_type": "stream",
          "name": "stderr",
          "text": [
            "WARNING:absl:You are saving your model as an HDF5 file via `model.save()` or `keras.saving.save_model(model)`. This file format is considered legacy. We recommend using instead the native Keras format, e.g. `model.save('my_model.keras')` or `keras.saving.save_model(model, 'my_model.keras')`. \n"
          ]
        },
        {
          "output_type": "stream",
          "name": "stdout",
          "text": [
            "Test Accuracy: 0.8465696573257446\n",
            "Model for experimental trial 26 saved as Experimental_trial_26_model.h5\n"
          ]
        }
      ]
    },
    {
      "cell_type": "markdown",
      "source": [
        "**Download model**"
      ],
      "metadata": {
        "id": "uA7WutxnuDuh"
      }
    },
    {
      "cell_type": "code",
      "source": [
        "final_model = load_model('/content/drive/My Drive/Experimental_trial_26_model.h5')"
      ],
      "metadata": {
        "colab": {
          "base_uri": "https://localhost:8080/"
        },
        "id": "2rxeHFxRtriM",
        "outputId": "f8560ca9-d274-47ec-9725-aeaed15ad9fb"
      },
      "execution_count": null,
      "outputs": [
        {
          "output_type": "stream",
          "name": "stderr",
          "text": [
            "WARNING:absl:Compiled the loaded model, but the compiled metrics have yet to be built. `model.compile_metrics` will be empty until you train or evaluate the model.\n"
          ]
        }
      ]
    },
    {
      "cell_type": "markdown",
      "source": [
        "**Model Architecture**"
      ],
      "metadata": {
        "id": "tyIJnglLuHYd"
      }
    },
    {
      "cell_type": "code",
      "source": [
        "final_model.summary()"
      ],
      "metadata": {
        "colab": {
          "base_uri": "https://localhost:8080/",
          "height": 314
        },
        "id": "EoPpzqBECd-w",
        "outputId": "d09768e1-ef1c-406c-8f15-afae88263537"
      },
      "execution_count": null,
      "outputs": [
        {
          "output_type": "display_data",
          "data": {
            "text/plain": [
              "\u001b[1mModel: \"sequential_1\"\u001b[0m\n"
            ],
            "text/html": [
              "<pre style=\"white-space:pre;overflow-x:auto;line-height:normal;font-family:Menlo,'DejaVu Sans Mono',consolas,'Courier New',monospace\"><span style=\"font-weight: bold\">Model: \"sequential_1\"</span>\n",
              "</pre>\n"
            ]
          },
          "metadata": {}
        },
        {
          "output_type": "display_data",
          "data": {
            "text/plain": [
              "┏━━━━━━━━━━━━━━━━━━━━━━━━━━━━━━━━━━━━━━┳━━━━━━━━━━━━━━━━━━━━━━━━━━━━━┳━━━━━━━━━━━━━━━━━┓\n",
              "┃\u001b[1m \u001b[0m\u001b[1mLayer (type)                        \u001b[0m\u001b[1m \u001b[0m┃\u001b[1m \u001b[0m\u001b[1mOutput Shape               \u001b[0m\u001b[1m \u001b[0m┃\u001b[1m \u001b[0m\u001b[1m        Param #\u001b[0m\u001b[1m \u001b[0m┃\n",
              "┡━━━━━━━━━━━━━━━━━━━━━━━━━━━━━━━━━━━━━━╇━━━━━━━━━━━━━━━━━━━━━━━━━━━━━╇━━━━━━━━━━━━━━━━━┩\n",
              "│ vgg16 (\u001b[38;5;33mFunctional\u001b[0m)                   │ (\u001b[38;5;45mNone\u001b[0m, \u001b[38;5;34m7\u001b[0m, \u001b[38;5;34m7\u001b[0m, \u001b[38;5;34m512\u001b[0m)           │      \u001b[38;5;34m14,714,688\u001b[0m │\n",
              "├──────────────────────────────────────┼─────────────────────────────┼─────────────────┤\n",
              "│ flatten_1 (\u001b[38;5;33mFlatten\u001b[0m)                  │ (\u001b[38;5;45mNone\u001b[0m, \u001b[38;5;34m25088\u001b[0m)               │               \u001b[38;5;34m0\u001b[0m │\n",
              "├──────────────────────────────────────┼─────────────────────────────┼─────────────────┤\n",
              "│ dense_2 (\u001b[38;5;33mDense\u001b[0m)                      │ (\u001b[38;5;45mNone\u001b[0m, \u001b[38;5;34m1024\u001b[0m)                │      \u001b[38;5;34m25,691,136\u001b[0m │\n",
              "├──────────────────────────────────────┼─────────────────────────────┼─────────────────┤\n",
              "│ dropout_1 (\u001b[38;5;33mDropout\u001b[0m)                  │ (\u001b[38;5;45mNone\u001b[0m, \u001b[38;5;34m1024\u001b[0m)                │               \u001b[38;5;34m0\u001b[0m │\n",
              "├──────────────────────────────────────┼─────────────────────────────┼─────────────────┤\n",
              "│ dense_3 (\u001b[38;5;33mDense\u001b[0m)                      │ (\u001b[38;5;45mNone\u001b[0m, \u001b[38;5;34m10\u001b[0m)                  │          \u001b[38;5;34m10,250\u001b[0m │\n",
              "└──────────────────────────────────────┴─────────────────────────────┴─────────────────┘\n"
            ],
            "text/html": [
              "<pre style=\"white-space:pre;overflow-x:auto;line-height:normal;font-family:Menlo,'DejaVu Sans Mono',consolas,'Courier New',monospace\">┏━━━━━━━━━━━━━━━━━━━━━━━━━━━━━━━━━━━━━━┳━━━━━━━━━━━━━━━━━━━━━━━━━━━━━┳━━━━━━━━━━━━━━━━━┓\n",
              "┃<span style=\"font-weight: bold\"> Layer (type)                         </span>┃<span style=\"font-weight: bold\"> Output Shape                </span>┃<span style=\"font-weight: bold\">         Param # </span>┃\n",
              "┡━━━━━━━━━━━━━━━━━━━━━━━━━━━━━━━━━━━━━━╇━━━━━━━━━━━━━━━━━━━━━━━━━━━━━╇━━━━━━━━━━━━━━━━━┩\n",
              "│ vgg16 (<span style=\"color: #0087ff; text-decoration-color: #0087ff\">Functional</span>)                   │ (<span style=\"color: #00d7ff; text-decoration-color: #00d7ff\">None</span>, <span style=\"color: #00af00; text-decoration-color: #00af00\">7</span>, <span style=\"color: #00af00; text-decoration-color: #00af00\">7</span>, <span style=\"color: #00af00; text-decoration-color: #00af00\">512</span>)           │      <span style=\"color: #00af00; text-decoration-color: #00af00\">14,714,688</span> │\n",
              "├──────────────────────────────────────┼─────────────────────────────┼─────────────────┤\n",
              "│ flatten_1 (<span style=\"color: #0087ff; text-decoration-color: #0087ff\">Flatten</span>)                  │ (<span style=\"color: #00d7ff; text-decoration-color: #00d7ff\">None</span>, <span style=\"color: #00af00; text-decoration-color: #00af00\">25088</span>)               │               <span style=\"color: #00af00; text-decoration-color: #00af00\">0</span> │\n",
              "├──────────────────────────────────────┼─────────────────────────────┼─────────────────┤\n",
              "│ dense_2 (<span style=\"color: #0087ff; text-decoration-color: #0087ff\">Dense</span>)                      │ (<span style=\"color: #00d7ff; text-decoration-color: #00d7ff\">None</span>, <span style=\"color: #00af00; text-decoration-color: #00af00\">1024</span>)                │      <span style=\"color: #00af00; text-decoration-color: #00af00\">25,691,136</span> │\n",
              "├──────────────────────────────────────┼─────────────────────────────┼─────────────────┤\n",
              "│ dropout_1 (<span style=\"color: #0087ff; text-decoration-color: #0087ff\">Dropout</span>)                  │ (<span style=\"color: #00d7ff; text-decoration-color: #00d7ff\">None</span>, <span style=\"color: #00af00; text-decoration-color: #00af00\">1024</span>)                │               <span style=\"color: #00af00; text-decoration-color: #00af00\">0</span> │\n",
              "├──────────────────────────────────────┼─────────────────────────────┼─────────────────┤\n",
              "│ dense_3 (<span style=\"color: #0087ff; text-decoration-color: #0087ff\">Dense</span>)                      │ (<span style=\"color: #00d7ff; text-decoration-color: #00d7ff\">None</span>, <span style=\"color: #00af00; text-decoration-color: #00af00\">10</span>)                  │          <span style=\"color: #00af00; text-decoration-color: #00af00\">10,250</span> │\n",
              "└──────────────────────────────────────┴─────────────────────────────┴─────────────────┘\n",
              "</pre>\n"
            ]
          },
          "metadata": {}
        },
        {
          "output_type": "display_data",
          "data": {
            "text/plain": [
              "\u001b[1m Total params: \u001b[0m\u001b[38;5;34m40,416,076\u001b[0m (154.18 MB)\n"
            ],
            "text/html": [
              "<pre style=\"white-space:pre;overflow-x:auto;line-height:normal;font-family:Menlo,'DejaVu Sans Mono',consolas,'Courier New',monospace\"><span style=\"font-weight: bold\"> Total params: </span><span style=\"color: #00af00; text-decoration-color: #00af00\">40,416,076</span> (154.18 MB)\n",
              "</pre>\n"
            ]
          },
          "metadata": {}
        },
        {
          "output_type": "display_data",
          "data": {
            "text/plain": [
              "\u001b[1m Trainable params: \u001b[0m\u001b[38;5;34m25,701,386\u001b[0m (98.04 MB)\n"
            ],
            "text/html": [
              "<pre style=\"white-space:pre;overflow-x:auto;line-height:normal;font-family:Menlo,'DejaVu Sans Mono',consolas,'Courier New',monospace\"><span style=\"font-weight: bold\"> Trainable params: </span><span style=\"color: #00af00; text-decoration-color: #00af00\">25,701,386</span> (98.04 MB)\n",
              "</pre>\n"
            ]
          },
          "metadata": {}
        },
        {
          "output_type": "display_data",
          "data": {
            "text/plain": [
              "\u001b[1m Non-trainable params: \u001b[0m\u001b[38;5;34m14,714,688\u001b[0m (56.13 MB)\n"
            ],
            "text/html": [
              "<pre style=\"white-space:pre;overflow-x:auto;line-height:normal;font-family:Menlo,'DejaVu Sans Mono',consolas,'Courier New',monospace\"><span style=\"font-weight: bold\"> Non-trainable params: </span><span style=\"color: #00af00; text-decoration-color: #00af00\">14,714,688</span> (56.13 MB)\n",
              "</pre>\n"
            ]
          },
          "metadata": {}
        },
        {
          "output_type": "display_data",
          "data": {
            "text/plain": [
              "\u001b[1m Optimizer params: \u001b[0m\u001b[38;5;34m2\u001b[0m (12.00 B)\n"
            ],
            "text/html": [
              "<pre style=\"white-space:pre;overflow-x:auto;line-height:normal;font-family:Menlo,'DejaVu Sans Mono',consolas,'Courier New',monospace\"><span style=\"font-weight: bold\"> Optimizer params: </span><span style=\"color: #00af00; text-decoration-color: #00af00\">2</span> (12.00 B)\n",
              "</pre>\n"
            ]
          },
          "metadata": {}
        }
      ]
    },
    {
      "cell_type": "markdown",
      "source": [
        "# Evaluation"
      ],
      "metadata": {
        "id": "gX9_rYfvWvKD"
      }
    },
    {
      "cell_type": "markdown",
      "source": [
        "**Confusion Matrix**"
      ],
      "metadata": {
        "id": "cUmmAVEEWxRd"
      }
    },
    {
      "cell_type": "code",
      "source": [
        "y_predict = final_model.predict(test_gen)\n",
        "y_predict = np.argmax(y_predict, axis=1)\n",
        "\n",
        "cm = confusion_matrix(test_gen.classes, y_predict)\n",
        "\n",
        "plt.figure(figsize=(10, 8))\n",
        "sns.heatmap(cm, annot=True, fmt='d', cmap='Blues', xticklabels=class_keys, yticklabels=class_keys)\n",
        "plt.title('Confusion Matrix')\n",
        "plt.xlabel('Predicted Labels')\n",
        "plt.ylabel('True Labels')\n",
        "plt.show()"
      ],
      "metadata": {
        "colab": {
          "base_uri": "https://localhost:8080/",
          "height": 1000
        },
        "id": "fxSdOcaIJH2n",
        "outputId": "8bb2a661-ac42-4a79-9ccb-a8ef3f824e44"
      },
      "execution_count": null,
      "outputs": [
        {
          "output_type": "stream",
          "name": "stdout",
          "text": [
            "\u001b[1m19/19\u001b[0m \u001b[32m━━━━━━━━━━━━━━━━━━━━\u001b[0m\u001b[37m\u001b[0m \u001b[1m7s\u001b[0m 319ms/step\n"
          ]
        },
        {
          "output_type": "display_data",
          "data": {
            "text/plain": [
              "<Figure size 1000x800 with 2 Axes>"
            ],
            "image/png": "[encoded data removed]"
          },
          "metadata": {}
        }
      ]
    },
    {
      "cell_type": "markdown",
      "source": [
        "**Classification Report**"
      ],
      "metadata": {
        "id": "WVoKtv7EWz2H"
      }
    },
    {
      "cell_type": "code",
      "source": [
        "print(classification_report(test_gen.classes, y_predict, target_names=class_keys))"
      ],
      "metadata": {
        "colab": {
          "base_uri": "https://localhost:8080/"
        },
        "id": "FspsQrNTJ_RF",
        "outputId": "8c03391e-5062-4fcb-9c77-693234533444"
      },
      "execution_count": null,
      "outputs": [
        {
          "output_type": "stream",
          "name": "stdout",
          "text": [
            "                                             precision    recall  f1-score   support\n",
            "\n",
            "                      Tomato_Bacterial_spot       0.90      0.86      0.88       320\n",
            "                        Tomato_Early_blight       0.70      0.63      0.66       150\n",
            "                         Tomato_Late_blight       0.93      0.75      0.83       287\n",
            "                           Tomato_Leaf_Mold       0.82      0.86      0.84       143\n",
            "                  Tomato_Septoria_leaf_spot       0.88      0.85      0.86       266\n",
            "Tomato_Spider_mites_Two_spotted_spider_mite       0.74      0.94      0.83       252\n",
            "                        Tomato__Target_Spot       0.63      0.83      0.72       211\n",
            "      Tomato__Tomato_YellowLeaf__Curl_Virus       0.99      0.88      0.93       481\n",
            "                Tomato__Tomato_mosaic_virus       0.66      0.98      0.79        56\n",
            "                             Tomato_healthy       0.97      0.90      0.94       239\n",
            "\n",
            "                                   accuracy                           0.85      2405\n",
            "                                  macro avg       0.82      0.85      0.83      2405\n",
            "                               weighted avg       0.86      0.85      0.85      2405\n",
            "\n"
          ]
        }
      ]
    }
  ]
}